{
 "cells": [
  {
   "cell_type": "markdown",
   "metadata": {},
   "source": [
    "## 1. Examining the Index Object"
   ]
  },
  {
   "cell_type": "markdown",
   "metadata": {},
   "source": [
    "    All index objects except for the special \"Multi-Index\" object are single dimensional\n",
    "    data structures. They combine the functionality of Python \"sets\" and Numpy \"ndarrays\"."
   ]
  },
  {
   "cell_type": "code",
   "execution_count": 3,
   "metadata": {},
   "outputs": [],
   "source": [
    "import numpy as np\n",
    "import pandas as pd"
   ]
  },
  {
   "cell_type": "code",
   "execution_count": 3,
   "metadata": {},
   "outputs": [
    {
     "data": {
      "text/plain": [
       "Index(['INSTNM', 'CITY', 'STABBR', 'HBCU', 'MENONLY', 'WOMENONLY', 'RELAFFIL',\n",
       "       'SATVRMID', 'SATMTMID', 'DISTANCEONLY', 'UGDS', 'UGDS_WHITE',\n",
       "       'UGDS_BLACK', 'UGDS_HISP', 'UGDS_ASIAN', 'UGDS_AIAN', 'UGDS_NHPI',\n",
       "       'UGDS_2MOR', 'UGDS_NRA', 'UGDS_UNKN', 'PPTUG_EF', 'CURROPER', 'PCTPELL',\n",
       "       'PCTFLOAN', 'UG25ABV', 'MD_EARN_WNE_P10', 'GRAD_DEBT_MDN_SUPP'],\n",
       "      dtype='object')"
      ]
     },
     "execution_count": 3,
     "metadata": {},
     "output_type": "execute_result"
    }
   ],
   "source": [
    "college = pd.read_csv(\"data/college.csv\")\n",
    "columns = college.columns\n",
    "columns"
   ]
  },
  {
   "cell_type": "code",
   "execution_count": 7,
   "metadata": {},
   "outputs": [
    {
     "name": "stdout",
     "output_type": "stream",
     "text": [
      "The type of the columns variable : <class 'pandas.core.indexes.base.Index'>\n",
      "Accessing the underlying array of values : ['INSTNM' 'CITY' 'STABBR' 'HBCU' 'MENONLY' 'WOMENONLY' 'RELAFFIL'\n",
      " 'SATVRMID' 'SATMTMID' 'DISTANCEONLY' 'UGDS' 'UGDS_WHITE' 'UGDS_BLACK'\n",
      " 'UGDS_HISP' 'UGDS_ASIAN' 'UGDS_AIAN' 'UGDS_NHPI' 'UGDS_2MOR' 'UGDS_NRA'\n",
      " 'UGDS_UNKN' 'PPTUG_EF' 'CURROPER' 'PCTPELL' 'PCTFLOAN' 'UG25ABV'\n",
      " 'MD_EARN_WNE_P10' 'GRAD_DEBT_MDN_SUPP']\n",
      "Accessing a value from the columns index object with a scalar : STABBR\n",
      "Accessing a list of values : Index(['HBCU', 'MENONLY', 'DISTANCEONLY'], dtype='object')\n",
      "Accessing a slice of values, specifically, the last three columns : Index(['UG25ABV', 'MD_EARN_WNE_P10', 'GRAD_DEBT_MDN_SUPP'], dtype='object')\n"
     ]
    }
   ],
   "source": [
    "print(\"The type of the columns variable : {}\".format(type(columns)))\n",
    "print(\"Accessing the underlying array of values : {}\".format(columns.values))\n",
    "print(\"Accessing a value from the columns index object with a scalar : {}\".format(columns[2]))\n",
    "print(\"Accessing a list of values : {}\".format(columns[[3, 4, 9]]))\n",
    "print(\"Accessing a slice of values, specifically, the last three columns : {}\".format(columns[-3:]))"
   ]
  },
  {
   "cell_type": "markdown",
   "metadata": {},
   "source": [
    "    Index Objects share a lot of the methods as series and dataframes"
   ]
  },
  {
   "cell_type": "code",
   "execution_count": 8,
   "metadata": {},
   "outputs": [
    {
     "data": {
      "text/plain": [
       "('CITY', 'WOMENONLY', 0)"
      ]
     },
     "execution_count": 8,
     "metadata": {},
     "output_type": "execute_result"
    }
   ],
   "source": [
    "#min, max and sum of columns\n",
    "columns.min(), columns.max(), columns.isna().sum()"
   ]
  },
  {
   "cell_type": "code",
   "execution_count": 9,
   "metadata": {},
   "outputs": [
    {
     "data": {
      "text/plain": [
       "Index(['INSTNM_A', 'CITY_A', 'STABBR_A', 'HBCU_A', 'MENONLY_A', 'WOMENONLY_A',\n",
       "       'RELAFFIL_A', 'SATVRMID_A', 'SATMTMID_A', 'DISTANCEONLY_A', 'UGDS_A',\n",
       "       'UGDS_WHITE_A', 'UGDS_BLACK_A', 'UGDS_HISP_A', 'UGDS_ASIAN_A',\n",
       "       'UGDS_AIAN_A', 'UGDS_NHPI_A', 'UGDS_2MOR_A', 'UGDS_NRA_A',\n",
       "       'UGDS_UNKN_A', 'PPTUG_EF_A', 'CURROPER_A', 'PCTPELL_A', 'PCTFLOAN_A',\n",
       "       'UG25ABV_A', 'MD_EARN_WNE_P10_A', 'GRAD_DEBT_MDN_SUPP_A'],\n",
       "      dtype='object')"
      ]
     },
     "execution_count": 9,
     "metadata": {},
     "output_type": "execute_result"
    }
   ],
   "source": [
    "#logical operation - appending 'A' to every column attribute\n",
    "columns + '_A'"
   ]
  },
  {
   "cell_type": "code",
   "execution_count": 10,
   "metadata": {},
   "outputs": [
    {
     "data": {
      "text/plain": [
       "array([False, False,  True, False,  True,  True,  True,  True,  True,\n",
       "       False,  True,  True,  True,  True,  True,  True,  True,  True,\n",
       "        True,  True,  True, False,  True,  True,  True,  True, False])"
      ]
     },
     "execution_count": 10,
     "metadata": {},
     "output_type": "execute_result"
    }
   ],
   "source": [
    "columns > 'M'"
   ]
  },
  {
   "cell_type": "markdown",
   "metadata": {},
   "source": [
    "    Index objects are immutable"
   ]
  },
  {
   "cell_type": "markdown",
   "metadata": {},
   "source": [
    "## 2. Producing Cartesian Products"
   ]
  },
  {
   "cell_type": "markdown",
   "metadata": {},
   "source": [
    "        When two Series / DataFrames interact with each other, the indices of the\n",
    "        inter-operating entities align before the operation begins. A cartesian product \n",
    "        of both their column and row indices are produced as a result of this alignment\n",
    "        (unless they are identical to each other). Being aware of them helps to avoid\n",
    "        unintentional consequences."
   ]
  },
  {
   "cell_type": "code",
   "execution_count": 12,
   "metadata": {},
   "outputs": [
    {
     "name": "stdout",
     "output_type": "stream",
     "text": [
      "a    0\n",
      "a    1\n",
      "a    2\n",
      "b    3\n",
      "dtype: int64\n",
      "c    0\n",
      "a    1\n",
      "b    2\n",
      "a    3\n",
      "b    4\n",
      "b    5\n",
      "dtype: int64\n"
     ]
    }
   ],
   "source": [
    "s1 = pd.Series(index = list('aaab'), data = np.arange(4))\n",
    "s2 = pd.Series(index = list('cababb'), data = np.arange(6))\n",
    "print(s1)\n",
    "print(s2)"
   ]
  },
  {
   "cell_type": "code",
   "execution_count": 14,
   "metadata": {},
   "outputs": [
    {
     "data": {
      "text/plain": [
       "a    1.0\n",
       "a    3.0\n",
       "a    2.0\n",
       "a    4.0\n",
       "a    3.0\n",
       "a    5.0\n",
       "b    5.0\n",
       "b    7.0\n",
       "b    8.0\n",
       "c    NaN\n",
       "dtype: float64"
      ]
     },
     "execution_count": 14,
     "metadata": {},
     "output_type": "execute_result"
    }
   ],
   "source": [
    "#every element in s1 sums up with every matching element in s2 to produce a new entry in (s1+s2)\n",
    "s1 + s2"
   ]
  },
  {
   "cell_type": "markdown",
   "metadata": {},
   "source": [
    "    Pandas defaults to missing value when an index label is unique to a single entity.\n",
    "    This has the effect of converting the type of the entity from int to float.\n",
    "    This is because np.nan exists for float only, and data must be homogenous \n",
    "    in a column/series. This automatic conversion can have a significant memory \n",
    "    impact on big data."
   ]
  },
  {
   "cell_type": "code",
   "execution_count": 51,
   "metadata": {},
   "outputs": [
    {
     "data": {
      "text/plain": [
       "a    0\n",
       "a    2\n",
       "a    4\n",
       "b    6\n",
       "dtype: int64"
      ]
     },
     "execution_count": 51,
     "metadata": {},
     "output_type": "execute_result"
    }
   ],
   "source": [
    "#no cartesian product when index labels are the same and ALSO in the same order\n",
    "s1 = pd.Series(index = list('aaab'), data = np.arange(4))\n",
    "s2 = pd.Series(index = list('aaab'), data = np.arange(4))\n",
    "s1 + s2"
   ]
  },
  {
   "cell_type": "code",
   "execution_count": 19,
   "metadata": {},
   "outputs": [
    {
     "data": {
      "text/plain": [
       "a    1\n",
       "a    2\n",
       "a    3\n",
       "a    4\n",
       "a    2\n",
       "a    3\n",
       "a    4\n",
       "a    5\n",
       "a    3\n",
       "a    4\n",
       "a    5\n",
       "a    6\n",
       "a    4\n",
       "a    5\n",
       "a    6\n",
       "a    7\n",
       "b    4\n",
       "dtype: int64"
      ]
     },
     "execution_count": 19,
     "metadata": {},
     "output_type": "execute_result"
    }
   ],
   "source": [
    "#cartesian product is produced when index labels are not in order, even though they are the same\n",
    "s1 = pd.Series(index = list('aaaab'), data = np.arange(5))\n",
    "s2 = pd.Series(index = list('baaaa'), data = np.arange(5))\n",
    "s1 + s2"
   ]
  },
  {
   "cell_type": "markdown",
   "metadata": {},
   "source": [
    "    This can lead to an explosion of returned values, when a cartesian product is\n",
    "    the only choice for pandas, even for an operation as simple as addition."
   ]
  },
  {
   "cell_type": "markdown",
   "metadata": {},
   "source": [
    "## 3. Exploding Indexes"
   ]
  },
  {
   "cell_type": "code",
   "execution_count": 26,
   "metadata": {},
   "outputs": [
    {
     "data": {
      "text/html": [
       "<div>\n",
       "<style scoped>\n",
       "    .dataframe tbody tr th:only-of-type {\n",
       "        vertical-align: middle;\n",
       "    }\n",
       "\n",
       "    .dataframe tbody tr th {\n",
       "        vertical-align: top;\n",
       "    }\n",
       "\n",
       "    .dataframe thead th {\n",
       "        text-align: right;\n",
       "    }\n",
       "</style>\n",
       "<table border=\"1\" class=\"dataframe\">\n",
       "  <thead>\n",
       "    <tr style=\"text-align: right;\">\n",
       "      <th></th>\n",
       "      <th>UNIQUE_ID</th>\n",
       "      <th>POSITION_TITLE</th>\n",
       "      <th>DEPARTMENT</th>\n",
       "      <th>BASE_SALARY</th>\n",
       "      <th>EMPLOYMENT_TYPE</th>\n",
       "      <th>GENDER</th>\n",
       "      <th>EMPLOYMENT_STATUS</th>\n",
       "      <th>HIRE_DATE</th>\n",
       "      <th>JOB_DATE</th>\n",
       "    </tr>\n",
       "    <tr>\n",
       "      <th>RACE</th>\n",
       "      <th></th>\n",
       "      <th></th>\n",
       "      <th></th>\n",
       "      <th></th>\n",
       "      <th></th>\n",
       "      <th></th>\n",
       "      <th></th>\n",
       "      <th></th>\n",
       "      <th></th>\n",
       "    </tr>\n",
       "  </thead>\n",
       "  <tbody>\n",
       "    <tr>\n",
       "      <th>Hispanic/Latino</th>\n",
       "      <td>0</td>\n",
       "      <td>ASSISTANT DIRECTOR (EX LVL)</td>\n",
       "      <td>Municipal Courts Department</td>\n",
       "      <td>121862.0</td>\n",
       "      <td>Full Time</td>\n",
       "      <td>Female</td>\n",
       "      <td>Active</td>\n",
       "      <td>2006-06-12</td>\n",
       "      <td>2012-10-13</td>\n",
       "    </tr>\n",
       "    <tr>\n",
       "      <th>Hispanic/Latino</th>\n",
       "      <td>1</td>\n",
       "      <td>LIBRARY ASSISTANT</td>\n",
       "      <td>Library</td>\n",
       "      <td>26125.0</td>\n",
       "      <td>Full Time</td>\n",
       "      <td>Female</td>\n",
       "      <td>Active</td>\n",
       "      <td>2000-07-19</td>\n",
       "      <td>2010-09-18</td>\n",
       "    </tr>\n",
       "    <tr>\n",
       "      <th>White</th>\n",
       "      <td>2</td>\n",
       "      <td>POLICE OFFICER</td>\n",
       "      <td>Houston Police Department-HPD</td>\n",
       "      <td>45279.0</td>\n",
       "      <td>Full Time</td>\n",
       "      <td>Male</td>\n",
       "      <td>Active</td>\n",
       "      <td>2015-02-03</td>\n",
       "      <td>2015-02-03</td>\n",
       "    </tr>\n",
       "    <tr>\n",
       "      <th>White</th>\n",
       "      <td>3</td>\n",
       "      <td>ENGINEER/OPERATOR</td>\n",
       "      <td>Houston Fire Department (HFD)</td>\n",
       "      <td>63166.0</td>\n",
       "      <td>Full Time</td>\n",
       "      <td>Male</td>\n",
       "      <td>Active</td>\n",
       "      <td>1982-02-08</td>\n",
       "      <td>1991-05-25</td>\n",
       "    </tr>\n",
       "    <tr>\n",
       "      <th>White</th>\n",
       "      <td>4</td>\n",
       "      <td>ELECTRICIAN</td>\n",
       "      <td>General Services Department</td>\n",
       "      <td>56347.0</td>\n",
       "      <td>Full Time</td>\n",
       "      <td>Male</td>\n",
       "      <td>Active</td>\n",
       "      <td>1989-06-19</td>\n",
       "      <td>1994-10-22</td>\n",
       "    </tr>\n",
       "  </tbody>\n",
       "</table>\n",
       "</div>"
      ],
      "text/plain": [
       "                 UNIQUE_ID               POSITION_TITLE  \\\n",
       "RACE                                                      \n",
       "Hispanic/Latino          0  ASSISTANT DIRECTOR (EX LVL)   \n",
       "Hispanic/Latino          1            LIBRARY ASSISTANT   \n",
       "White                    2               POLICE OFFICER   \n",
       "White                    3            ENGINEER/OPERATOR   \n",
       "White                    4                  ELECTRICIAN   \n",
       "\n",
       "                                    DEPARTMENT  BASE_SALARY EMPLOYMENT_TYPE  \\\n",
       "RACE                                                                          \n",
       "Hispanic/Latino    Municipal Courts Department     121862.0       Full Time   \n",
       "Hispanic/Latino                        Library      26125.0       Full Time   \n",
       "White            Houston Police Department-HPD      45279.0       Full Time   \n",
       "White            Houston Fire Department (HFD)      63166.0       Full Time   \n",
       "White              General Services Department      56347.0       Full Time   \n",
       "\n",
       "                 GENDER EMPLOYMENT_STATUS   HIRE_DATE    JOB_DATE  \n",
       "RACE                                                               \n",
       "Hispanic/Latino  Female            Active  2006-06-12  2012-10-13  \n",
       "Hispanic/Latino  Female            Active  2000-07-19  2010-09-18  \n",
       "White              Male            Active  2015-02-03  2015-02-03  \n",
       "White              Male            Active  1982-02-08  1991-05-25  \n",
       "White              Male            Active  1989-06-19  1994-10-22  "
      ]
     },
     "execution_count": 26,
     "metadata": {},
     "output_type": "execute_result"
    }
   ],
   "source": [
    "#let us show the result from the above section, but on a larger scale.\n",
    "data = pd.read_csv(\"data/employee.csv\", index_col=[\"RACE\"])\n",
    "data.head()"
   ]
  },
  {
   "cell_type": "code",
   "execution_count": 27,
   "metadata": {},
   "outputs": [
    {
     "data": {
      "text/plain": [
       "False"
      ]
     },
     "execution_count": 27,
     "metadata": {},
     "output_type": "execute_result"
    }
   ],
   "source": [
    "s1 = data[\"BASE_SALARY\"].copy()\n",
    "s2 = data[\"BASE_SALARY\"].copy()\n",
    "#let's confirm that we've got two different copies of the same Series\n",
    "s1 is s2"
   ]
  },
  {
   "cell_type": "code",
   "execution_count": 28,
   "metadata": {},
   "outputs": [],
   "source": [
    "#now let's change the index labels for one of the series by sorting it\n",
    "s1 = s1.sort_index()"
   ]
  },
  {
   "cell_type": "code",
   "execution_count": 30,
   "metadata": {},
   "outputs": [
    {
     "data": {
      "text/plain": [
       "(2000, 2000, 2000, 1175424)"
      ]
     },
     "execution_count": 30,
     "metadata": {},
     "output_type": "execute_result"
    }
   ],
   "source": [
    "#comparing the length of series for identical labels addition, identical but different order labels addition\n",
    "len(s1), len(s2), len(s1 + s1), len(s1 + s2)\n",
    "\n",
    "#as we can see, we see an explosion in the number of values in the resulting series from a mere 2000\n",
    "#to over a million data points!"
   ]
  },
  {
   "cell_type": "markdown",
   "metadata": {},
   "source": [
    "## 4. Filling values with unequal indexes"
   ]
  },
  {
   "cell_type": "code",
   "execution_count": 32,
   "metadata": {},
   "outputs": [
    {
     "data": {
      "text/html": [
       "<div>\n",
       "<style scoped>\n",
       "    .dataframe tbody tr th:only-of-type {\n",
       "        vertical-align: middle;\n",
       "    }\n",
       "\n",
       "    .dataframe tbody tr th {\n",
       "        vertical-align: top;\n",
       "    }\n",
       "\n",
       "    .dataframe thead th {\n",
       "        text-align: right;\n",
       "    }\n",
       "</style>\n",
       "<table border=\"1\" class=\"dataframe\">\n",
       "  <thead>\n",
       "    <tr style=\"text-align: right;\">\n",
       "      <th></th>\n",
       "      <th>yearID</th>\n",
       "      <th>stint</th>\n",
       "      <th>teamID</th>\n",
       "      <th>lgID</th>\n",
       "      <th>G</th>\n",
       "      <th>AB</th>\n",
       "      <th>R</th>\n",
       "      <th>H</th>\n",
       "      <th>2B</th>\n",
       "      <th>3B</th>\n",
       "      <th>...</th>\n",
       "      <th>RBI</th>\n",
       "      <th>SB</th>\n",
       "      <th>CS</th>\n",
       "      <th>BB</th>\n",
       "      <th>SO</th>\n",
       "      <th>IBB</th>\n",
       "      <th>HBP</th>\n",
       "      <th>SH</th>\n",
       "      <th>SF</th>\n",
       "      <th>GIDP</th>\n",
       "    </tr>\n",
       "    <tr>\n",
       "      <th>playerID</th>\n",
       "      <th></th>\n",
       "      <th></th>\n",
       "      <th></th>\n",
       "      <th></th>\n",
       "      <th></th>\n",
       "      <th></th>\n",
       "      <th></th>\n",
       "      <th></th>\n",
       "      <th></th>\n",
       "      <th></th>\n",
       "      <th></th>\n",
       "      <th></th>\n",
       "      <th></th>\n",
       "      <th></th>\n",
       "      <th></th>\n",
       "      <th></th>\n",
       "      <th></th>\n",
       "      <th></th>\n",
       "      <th></th>\n",
       "      <th></th>\n",
       "      <th></th>\n",
       "    </tr>\n",
       "  </thead>\n",
       "  <tbody>\n",
       "    <tr>\n",
       "      <th>altuvjo01</th>\n",
       "      <td>2014</td>\n",
       "      <td>1</td>\n",
       "      <td>HOU</td>\n",
       "      <td>AL</td>\n",
       "      <td>158</td>\n",
       "      <td>660</td>\n",
       "      <td>85</td>\n",
       "      <td>225</td>\n",
       "      <td>47</td>\n",
       "      <td>3</td>\n",
       "      <td>...</td>\n",
       "      <td>59.0</td>\n",
       "      <td>56.0</td>\n",
       "      <td>9.0</td>\n",
       "      <td>36</td>\n",
       "      <td>53.0</td>\n",
       "      <td>7.0</td>\n",
       "      <td>5.0</td>\n",
       "      <td>1.0</td>\n",
       "      <td>5.0</td>\n",
       "      <td>20.0</td>\n",
       "    </tr>\n",
       "    <tr>\n",
       "      <th>cartech02</th>\n",
       "      <td>2014</td>\n",
       "      <td>1</td>\n",
       "      <td>HOU</td>\n",
       "      <td>AL</td>\n",
       "      <td>145</td>\n",
       "      <td>507</td>\n",
       "      <td>68</td>\n",
       "      <td>115</td>\n",
       "      <td>21</td>\n",
       "      <td>1</td>\n",
       "      <td>...</td>\n",
       "      <td>88.0</td>\n",
       "      <td>5.0</td>\n",
       "      <td>2.0</td>\n",
       "      <td>56</td>\n",
       "      <td>182.0</td>\n",
       "      <td>6.0</td>\n",
       "      <td>5.0</td>\n",
       "      <td>0.0</td>\n",
       "      <td>4.0</td>\n",
       "      <td>12.0</td>\n",
       "    </tr>\n",
       "    <tr>\n",
       "      <th>castrja01</th>\n",
       "      <td>2014</td>\n",
       "      <td>1</td>\n",
       "      <td>HOU</td>\n",
       "      <td>AL</td>\n",
       "      <td>126</td>\n",
       "      <td>465</td>\n",
       "      <td>43</td>\n",
       "      <td>103</td>\n",
       "      <td>21</td>\n",
       "      <td>2</td>\n",
       "      <td>...</td>\n",
       "      <td>56.0</td>\n",
       "      <td>1.0</td>\n",
       "      <td>0.0</td>\n",
       "      <td>34</td>\n",
       "      <td>151.0</td>\n",
       "      <td>1.0</td>\n",
       "      <td>9.0</td>\n",
       "      <td>1.0</td>\n",
       "      <td>3.0</td>\n",
       "      <td>11.0</td>\n",
       "    </tr>\n",
       "    <tr>\n",
       "      <th>corpoca01</th>\n",
       "      <td>2014</td>\n",
       "      <td>1</td>\n",
       "      <td>HOU</td>\n",
       "      <td>AL</td>\n",
       "      <td>55</td>\n",
       "      <td>170</td>\n",
       "      <td>22</td>\n",
       "      <td>40</td>\n",
       "      <td>6</td>\n",
       "      <td>0</td>\n",
       "      <td>...</td>\n",
       "      <td>19.0</td>\n",
       "      <td>0.0</td>\n",
       "      <td>0.0</td>\n",
       "      <td>14</td>\n",
       "      <td>37.0</td>\n",
       "      <td>0.0</td>\n",
       "      <td>3.0</td>\n",
       "      <td>1.0</td>\n",
       "      <td>2.0</td>\n",
       "      <td>3.0</td>\n",
       "    </tr>\n",
       "    <tr>\n",
       "      <th>dominma01</th>\n",
       "      <td>2014</td>\n",
       "      <td>1</td>\n",
       "      <td>HOU</td>\n",
       "      <td>AL</td>\n",
       "      <td>157</td>\n",
       "      <td>564</td>\n",
       "      <td>51</td>\n",
       "      <td>121</td>\n",
       "      <td>17</td>\n",
       "      <td>0</td>\n",
       "      <td>...</td>\n",
       "      <td>57.0</td>\n",
       "      <td>0.0</td>\n",
       "      <td>1.0</td>\n",
       "      <td>29</td>\n",
       "      <td>125.0</td>\n",
       "      <td>2.0</td>\n",
       "      <td>5.0</td>\n",
       "      <td>2.0</td>\n",
       "      <td>7.0</td>\n",
       "      <td>23.0</td>\n",
       "    </tr>\n",
       "  </tbody>\n",
       "</table>\n",
       "<p>5 rows × 21 columns</p>\n",
       "</div>"
      ],
      "text/plain": [
       "           yearID  stint teamID lgID    G   AB   R    H  2B  3B  ...   RBI  \\\n",
       "playerID                                                         ...         \n",
       "altuvjo01    2014      1    HOU   AL  158  660  85  225  47   3  ...  59.0   \n",
       "cartech02    2014      1    HOU   AL  145  507  68  115  21   1  ...  88.0   \n",
       "castrja01    2014      1    HOU   AL  126  465  43  103  21   2  ...  56.0   \n",
       "corpoca01    2014      1    HOU   AL   55  170  22   40   6   0  ...  19.0   \n",
       "dominma01    2014      1    HOU   AL  157  564  51  121  17   0  ...  57.0   \n",
       "\n",
       "             SB   CS  BB     SO  IBB  HBP   SH   SF  GIDP  \n",
       "playerID                                                   \n",
       "altuvjo01  56.0  9.0  36   53.0  7.0  5.0  1.0  5.0  20.0  \n",
       "cartech02   5.0  2.0  56  182.0  6.0  5.0  0.0  4.0  12.0  \n",
       "castrja01   1.0  0.0  34  151.0  1.0  9.0  1.0  3.0  11.0  \n",
       "corpoca01   0.0  0.0  14   37.0  0.0  3.0  1.0  2.0   3.0  \n",
       "dominma01   0.0  1.0  29  125.0  2.0  5.0  2.0  7.0  23.0  \n",
       "\n",
       "[5 rows x 21 columns]"
      ]
     },
     "execution_count": 32,
     "metadata": {},
     "output_type": "execute_result"
    }
   ],
   "source": [
    "bb14 = pd.read_csv('data/baseball14.csv', index_col='playerID')\n",
    "bb15 = pd.read_csv('data/baseball15.csv', index_col='playerID')\n",
    "bb16 = pd.read_csv('data/baseball16.csv', index_col='playerID')\n",
    "bb14.head()"
   ]
  },
  {
   "cell_type": "code",
   "execution_count": 34,
   "metadata": {},
   "outputs": [
    {
     "data": {
      "text/plain": [
       "Index(['corpoca01', 'dominma01', 'fowlede01', 'grossro01', 'guzmaje01',\n",
       "       'hoeslj01', 'krausma01', 'preslal01', 'singljo02'],\n",
       "      dtype='object', name='playerID')"
      ]
     },
     "execution_count": 34,
     "metadata": {},
     "output_type": "execute_result"
    }
   ],
   "source": [
    "#let's find the index labels that are there in one series but not in the other\n",
    "bb14.index.difference(bb15.index)"
   ]
  },
  {
   "cell_type": "code",
   "execution_count": 37,
   "metadata": {},
   "outputs": [
    {
     "data": {
      "text/plain": [
       "Index(['cartech02', 'corpoca01', 'dominma01', 'fowlede01', 'grossro01',\n",
       "       'guzmaje01', 'hoeslj01', 'krausma01', 'preslal01', 'singljo02',\n",
       "       'villajo01'],\n",
       "      dtype='object', name='playerID')"
      ]
     },
     "execution_count": 37,
     "metadata": {},
     "output_type": "execute_result"
    }
   ],
   "source": [
    "bb14.index.difference(bb16.index)"
   ]
  },
  {
   "cell_type": "code",
   "execution_count": 52,
   "metadata": {},
   "outputs": [],
   "source": [
    "#let's get the 'H' columns : number of hits for each player over 3 years.\n",
    "hits1 = bb14['H']\n",
    "hits2 = bb15['H']\n",
    "hits3 = bb16['H']\n",
    "#eventhough some players have hits in some years and not others, these are\n",
    "#completely neglected in the resulting sum of series."
   ]
  },
  {
   "cell_type": "code",
   "execution_count": 41,
   "metadata": {},
   "outputs": [
    {
     "data": {
      "text/plain": [
       "playerID\n",
       "altuvjo01    425.0\n",
       "cartech02    193.0\n",
       "castrja01    174.0\n",
       "congeha01     46.0\n",
       "corpoca01     40.0\n",
       "Name: H, dtype: float64"
      ]
     },
     "execution_count": 41,
     "metadata": {},
     "output_type": "execute_result"
    }
   ],
   "source": [
    "#to avoid this, we use the add method which provides much more flexibility\n",
    "#like mentioning the fill value\n",
    "hits1.add(hits2, fill_value=0).head()"
   ]
  },
  {
   "cell_type": "code",
   "execution_count": 54,
   "metadata": {},
   "outputs": [
    {
     "data": {
      "text/plain": [
       "(24, 24)"
      ]
     },
     "execution_count": 54,
     "metadata": {},
     "output_type": "execute_result"
    }
   ],
   "source": [
    "#there is no explosion here because there are no multiple matching values.\n",
    "#Just missing labels when moving from one series to another, which does not produce \n",
    "#an explosion.\n",
    "len(hits1 + hits2), len(hits1.add(hits2, fill_value=0))"
   ]
  },
  {
   "cell_type": "code",
   "execution_count": 56,
   "metadata": {},
   "outputs": [
    {
     "data": {
      "text/plain": [
       "playerID\n",
       "altuvjo01    641.0\n",
       "bregmal01     53.0\n",
       "cartech02    193.0\n",
       "castrja01    243.0\n",
       "congeha01     46.0\n",
       "Name: H, dtype: float64"
      ]
     },
     "execution_count": 56,
     "metadata": {},
     "output_type": "execute_result"
    }
   ],
   "source": [
    "hits_total = hits1.add(hits2, fill_value=0).add(hits3, fill_value=0)\n",
    "hits_total.head()"
   ]
  },
  {
   "cell_type": "code",
   "execution_count": 60,
   "metadata": {},
   "outputs": [
    {
     "data": {
      "text/plain": [
       "False"
      ]
     },
     "execution_count": 60,
     "metadata": {},
     "output_type": "execute_result"
    }
   ],
   "source": [
    "#to check for missing values in the hits_total series.\n",
    "hits_total.hasnans\n",
    "#if it returned true, we could be sure that the value for the corresponding label \n",
    "#for all the series that underwent the addition operation was = NaN."
   ]
  },
  {
   "cell_type": "markdown",
   "metadata": {},
   "source": [
    "## 5. Appending Columns From Different DataFrames"
   ]
  },
  {
   "cell_type": "code",
   "execution_count": 31,
   "metadata": {},
   "outputs": [],
   "source": [
    "employee = pd.read_csv(\"data/employee.csv\")\n",
    "dept_sal = employee[[\"DEPARTMENT\", \"BASE_SALARY\"]]"
   ]
  },
  {
   "cell_type": "code",
   "execution_count": 32,
   "metadata": {},
   "outputs": [],
   "source": [
    "#sort the department values(to drop all but one later), and also sort base\n",
    "#salary in descending order, to keep the only the highest one later on\n",
    "dept_sal = dept_sal.sort_values([\"DEPARTMENT\", \"BASE_SALARY\"], ascending=[True, False])"
   ]
  },
  {
   "cell_type": "code",
   "execution_count": 33,
   "metadata": {},
   "outputs": [],
   "source": [
    "#remove all but one entries of each dept.\n",
    "max_dept_sal = dept_sal.drop_duplicates(subset=[\"DEPARTMENT\"])"
   ]
  },
  {
   "cell_type": "code",
   "execution_count": 36,
   "metadata": {},
   "outputs": [],
   "source": [
    "#align row labels, so that can now append our new column\n",
    "max_dept_sal = max_dept_sal.set_index(\"DEPARTMENT\")\n",
    "employee = employee.set_index(\"DEPARTMENT\")"
   ]
  },
  {
   "cell_type": "code",
   "execution_count": 37,
   "metadata": {},
   "outputs": [],
   "source": [
    "#perform the append\n",
    "employee[\"MAX_DEPT_SAL\"] = max_dept_sal[\"BASE_SALARY\"]"
   ]
  },
  {
   "cell_type": "code",
   "execution_count": 42,
   "metadata": {},
   "outputs": [
    {
     "data": {
      "text/html": [
       "<div>\n",
       "<style scoped>\n",
       "    .dataframe tbody tr th:only-of-type {\n",
       "        vertical-align: middle;\n",
       "    }\n",
       "\n",
       "    .dataframe tbody tr th {\n",
       "        vertical-align: top;\n",
       "    }\n",
       "\n",
       "    .dataframe thead th {\n",
       "        text-align: right;\n",
       "    }\n",
       "</style>\n",
       "<table border=\"1\" class=\"dataframe\">\n",
       "  <thead>\n",
       "    <tr style=\"text-align: right;\">\n",
       "      <th></th>\n",
       "      <th>UNIQUE_ID</th>\n",
       "      <th>POSITION_TITLE</th>\n",
       "      <th>BASE_SALARY</th>\n",
       "      <th>RACE</th>\n",
       "      <th>EMPLOYMENT_TYPE</th>\n",
       "      <th>GENDER</th>\n",
       "      <th>EMPLOYMENT_STATUS</th>\n",
       "      <th>HIRE_DATE</th>\n",
       "      <th>JOB_DATE</th>\n",
       "      <th>MAX_DEPT_SAL</th>\n",
       "    </tr>\n",
       "    <tr>\n",
       "      <th>DEPARTMENT</th>\n",
       "      <th></th>\n",
       "      <th></th>\n",
       "      <th></th>\n",
       "      <th></th>\n",
       "      <th></th>\n",
       "      <th></th>\n",
       "      <th></th>\n",
       "      <th></th>\n",
       "      <th></th>\n",
       "      <th></th>\n",
       "    </tr>\n",
       "  </thead>\n",
       "  <tbody>\n",
       "  </tbody>\n",
       "</table>\n",
       "</div>"
      ],
      "text/plain": [
       "Empty DataFrame\n",
       "Columns: [UNIQUE_ID, POSITION_TITLE, BASE_SALARY, RACE, EMPLOYMENT_TYPE, GENDER, EMPLOYMENT_STATUS, HIRE_DATE, JOB_DATE, MAX_DEPT_SAL]\n",
       "Index: []"
      ]
     },
     "execution_count": 42,
     "metadata": {},
     "output_type": "execute_result"
    }
   ],
   "source": [
    "#a sample query on the modified dataset\n",
    "employee.query(\"BASE_SALARY> MAX_DEPT_SAL\")\n",
    "#there are no rows that satisfy the above query"
   ]
  },
  {
   "cell_type": "markdown",
   "metadata": {},
   "source": [
    "## 6. Highlighting the Maximum Value from Each Dataset"
   ]
  },
  {
   "cell_type": "code",
   "execution_count": 49,
   "metadata": {},
   "outputs": [
    {
     "data": {
      "text/html": [
       "<div>\n",
       "<style scoped>\n",
       "    .dataframe tbody tr th:only-of-type {\n",
       "        vertical-align: middle;\n",
       "    }\n",
       "\n",
       "    .dataframe tbody tr th {\n",
       "        vertical-align: top;\n",
       "    }\n",
       "\n",
       "    .dataframe thead th {\n",
       "        text-align: right;\n",
       "    }\n",
       "</style>\n",
       "<table border=\"1\" class=\"dataframe\">\n",
       "  <thead>\n",
       "    <tr style=\"text-align: right;\">\n",
       "      <th></th>\n",
       "      <th>INSTNM</th>\n",
       "      <th>CITY</th>\n",
       "      <th>STABBR</th>\n",
       "      <th>HBCU</th>\n",
       "      <th>MENONLY</th>\n",
       "      <th>WOMENONLY</th>\n",
       "      <th>RELAFFIL</th>\n",
       "      <th>SATVRMID</th>\n",
       "      <th>SATMTMID</th>\n",
       "      <th>DISTANCEONLY</th>\n",
       "      <th>...</th>\n",
       "      <th>UGDS_2MOR</th>\n",
       "      <th>UGDS_NRA</th>\n",
       "      <th>UGDS_UNKN</th>\n",
       "      <th>PPTUG_EF</th>\n",
       "      <th>CURROPER</th>\n",
       "      <th>PCTPELL</th>\n",
       "      <th>PCTFLOAN</th>\n",
       "      <th>UG25ABV</th>\n",
       "      <th>MD_EARN_WNE_P10</th>\n",
       "      <th>GRAD_DEBT_MDN_SUPP</th>\n",
       "    </tr>\n",
       "  </thead>\n",
       "  <tbody>\n",
       "    <tr>\n",
       "      <th>0</th>\n",
       "      <td>Alabama A &amp; M University</td>\n",
       "      <td>Normal</td>\n",
       "      <td>AL</td>\n",
       "      <td>1.0</td>\n",
       "      <td>0.0</td>\n",
       "      <td>0.0</td>\n",
       "      <td>0</td>\n",
       "      <td>424.0</td>\n",
       "      <td>420.0</td>\n",
       "      <td>0.0</td>\n",
       "      <td>...</td>\n",
       "      <td>0.0000</td>\n",
       "      <td>0.0059</td>\n",
       "      <td>0.0138</td>\n",
       "      <td>0.0656</td>\n",
       "      <td>1</td>\n",
       "      <td>0.7356</td>\n",
       "      <td>0.8284</td>\n",
       "      <td>0.1049</td>\n",
       "      <td>30300</td>\n",
       "      <td>33888</td>\n",
       "    </tr>\n",
       "    <tr>\n",
       "      <th>1</th>\n",
       "      <td>University of Alabama at Birmingham</td>\n",
       "      <td>Birmingham</td>\n",
       "      <td>AL</td>\n",
       "      <td>0.0</td>\n",
       "      <td>0.0</td>\n",
       "      <td>0.0</td>\n",
       "      <td>0</td>\n",
       "      <td>570.0</td>\n",
       "      <td>565.0</td>\n",
       "      <td>0.0</td>\n",
       "      <td>...</td>\n",
       "      <td>0.0368</td>\n",
       "      <td>0.0179</td>\n",
       "      <td>0.0100</td>\n",
       "      <td>0.2607</td>\n",
       "      <td>1</td>\n",
       "      <td>0.3460</td>\n",
       "      <td>0.5214</td>\n",
       "      <td>0.2422</td>\n",
       "      <td>39700</td>\n",
       "      <td>21941.5</td>\n",
       "    </tr>\n",
       "    <tr>\n",
       "      <th>2</th>\n",
       "      <td>Amridge University</td>\n",
       "      <td>Montgomery</td>\n",
       "      <td>AL</td>\n",
       "      <td>0.0</td>\n",
       "      <td>0.0</td>\n",
       "      <td>0.0</td>\n",
       "      <td>1</td>\n",
       "      <td>NaN</td>\n",
       "      <td>NaN</td>\n",
       "      <td>1.0</td>\n",
       "      <td>...</td>\n",
       "      <td>0.0000</td>\n",
       "      <td>0.0000</td>\n",
       "      <td>0.2715</td>\n",
       "      <td>0.4536</td>\n",
       "      <td>1</td>\n",
       "      <td>0.6801</td>\n",
       "      <td>0.7795</td>\n",
       "      <td>0.8540</td>\n",
       "      <td>40100</td>\n",
       "      <td>23370</td>\n",
       "    </tr>\n",
       "  </tbody>\n",
       "</table>\n",
       "<p>3 rows × 27 columns</p>\n",
       "</div>"
      ],
      "text/plain": [
       "                                INSTNM        CITY STABBR  HBCU  MENONLY  \\\n",
       "0             Alabama A & M University      Normal     AL   1.0      0.0   \n",
       "1  University of Alabama at Birmingham  Birmingham     AL   0.0      0.0   \n",
       "2                   Amridge University  Montgomery     AL   0.0      0.0   \n",
       "\n",
       "   WOMENONLY  RELAFFIL  SATVRMID  SATMTMID  DISTANCEONLY  ...  UGDS_2MOR  \\\n",
       "0        0.0         0     424.0     420.0           0.0  ...     0.0000   \n",
       "1        0.0         0     570.0     565.0           0.0  ...     0.0368   \n",
       "2        0.0         1       NaN       NaN           1.0  ...     0.0000   \n",
       "\n",
       "   UGDS_NRA  UGDS_UNKN  PPTUG_EF  CURROPER  PCTPELL  PCTFLOAN  UG25ABV  \\\n",
       "0    0.0059     0.0138    0.0656         1   0.7356    0.8284   0.1049   \n",
       "1    0.0179     0.0100    0.2607         1   0.3460    0.5214   0.2422   \n",
       "2    0.0000     0.2715    0.4536         1   0.6801    0.7795   0.8540   \n",
       "\n",
       "   MD_EARN_WNE_P10  GRAD_DEBT_MDN_SUPP  \n",
       "0            30300               33888  \n",
       "1            39700             21941.5  \n",
       "2            40100               23370  \n",
       "\n",
       "[3 rows x 27 columns]"
      ]
     },
     "execution_count": 49,
     "metadata": {},
     "output_type": "execute_result"
    }
   ],
   "source": [
    "college = pd.read_csv(\"data/college.csv\")\n",
    "#college.head() suggests that all but the first two columns \n",
    "#are numerical types. However, the college.dtypes tell a different story\n",
    "#you see what i did there :)\n",
    "college.head(3)"
   ]
  },
  {
   "cell_type": "code",
   "execution_count": 59,
   "metadata": {},
   "outputs": [
    {
     "data": {
      "text/plain": [
       "CITY                   object\n",
       "STABBR                 object\n",
       "HBCU                  float64\n",
       "MENONLY               float64\n",
       "UG25ABV               float64\n",
       "MD_EARN_WNE_P10       float64\n",
       "GRAD_DEBT_MDN_SUPP     object\n",
       "dtype: object"
      ]
     },
     "execution_count": 59,
     "metadata": {},
     "output_type": "execute_result"
    }
   ],
   "source": [
    "college.dtypes[[0, 1, 2, 3, -3, -2, -1]]"
   ]
  },
  {
   "cell_type": "code",
   "execution_count": 56,
   "metadata": {},
   "outputs": [
    {
     "data": {
      "text/plain": [
       "INSTNM\n",
       "Sharon Regional Health System School of Nursing    PrivacySuppressed\n",
       "Northcoast Medical Training Academy                PrivacySuppressed\n",
       "Success Schools                                    PrivacySuppressed\n",
       "Louisiana Culinary Institute                       PrivacySuppressed\n",
       "Bais Medrash Toras Chesed                          PrivacySuppressed\n",
       "Name: MD_EARN_WNE_P10, dtype: object"
      ]
     },
     "execution_count": 56,
     "metadata": {},
     "output_type": "execute_result"
    }
   ],
   "source": [
    "#this tells us that the last two columns have some non numeric data in them\n",
    "#let's find it by sorting one of those cols\n",
    "college = college.set_index(\"INSTNM\")\n",
    "college[\"MD_EARN_WNE_P10\"].sort_values(ascending=False).head()"
   ]
  },
  {
   "cell_type": "code",
   "execution_count": 60,
   "metadata": {},
   "outputs": [
    {
     "data": {
      "text/plain": [
       "MD_EARN_WNE_P10       float64\n",
       "GRAD_DEBT_MDN_SUPP    float64\n",
       "dtype: object"
      ]
     },
     "execution_count": 60,
     "metadata": {},
     "output_type": "execute_result"
    }
   ],
   "source": [
    "#let us convert the non numeric values for the rows to NaN using \"coerce\"\n",
    "cols = [\"MD_EARN_WNE_P10\", \"GRAD_DEBT_MDN_SUPP\"]\n",
    "for col in cols:\n",
    "    college[col] = pd.to_numeric(college[col], errors=\"coerce\")\n",
    "\n",
    "college.dtypes.loc[cols]"
   ]
  },
  {
   "cell_type": "code",
   "execution_count": 65,
   "metadata": {},
   "outputs": [
    {
     "data": {
      "text/html": [
       "<div>\n",
       "<style scoped>\n",
       "    .dataframe tbody tr th:only-of-type {\n",
       "        vertical-align: middle;\n",
       "    }\n",
       "\n",
       "    .dataframe tbody tr th {\n",
       "        vertical-align: top;\n",
       "    }\n",
       "\n",
       "    .dataframe thead th {\n",
       "        text-align: right;\n",
       "    }\n",
       "</style>\n",
       "<table border=\"1\" class=\"dataframe\">\n",
       "  <thead>\n",
       "    <tr style=\"text-align: right;\">\n",
       "      <th></th>\n",
       "      <th>HBCU</th>\n",
       "      <th>MENONLY</th>\n",
       "      <th>WOMENONLY</th>\n",
       "      <th>RELAFFIL</th>\n",
       "      <th>SATVRMID</th>\n",
       "      <th>SATMTMID</th>\n",
       "      <th>DISTANCEONLY</th>\n",
       "      <th>UGDS</th>\n",
       "      <th>UGDS_WHITE</th>\n",
       "      <th>UGDS_BLACK</th>\n",
       "      <th>...</th>\n",
       "      <th>UGDS_2MOR</th>\n",
       "      <th>UGDS_NRA</th>\n",
       "      <th>UGDS_UNKN</th>\n",
       "      <th>PPTUG_EF</th>\n",
       "      <th>CURROPER</th>\n",
       "      <th>PCTPELL</th>\n",
       "      <th>PCTFLOAN</th>\n",
       "      <th>UG25ABV</th>\n",
       "      <th>MD_EARN_WNE_P10</th>\n",
       "      <th>GRAD_DEBT_MDN_SUPP</th>\n",
       "    </tr>\n",
       "    <tr>\n",
       "      <th>INSTNM</th>\n",
       "      <th></th>\n",
       "      <th></th>\n",
       "      <th></th>\n",
       "      <th></th>\n",
       "      <th></th>\n",
       "      <th></th>\n",
       "      <th></th>\n",
       "      <th></th>\n",
       "      <th></th>\n",
       "      <th></th>\n",
       "      <th></th>\n",
       "      <th></th>\n",
       "      <th></th>\n",
       "      <th></th>\n",
       "      <th></th>\n",
       "      <th></th>\n",
       "      <th></th>\n",
       "      <th></th>\n",
       "      <th></th>\n",
       "      <th></th>\n",
       "      <th></th>\n",
       "    </tr>\n",
       "  </thead>\n",
       "  <tbody>\n",
       "    <tr>\n",
       "      <th>Alabama A &amp; M University</th>\n",
       "      <td>1.0</td>\n",
       "      <td>0.0</td>\n",
       "      <td>0.0</td>\n",
       "      <td>0</td>\n",
       "      <td>424.0</td>\n",
       "      <td>420.0</td>\n",
       "      <td>0.0</td>\n",
       "      <td>4206.0</td>\n",
       "      <td>0.0333</td>\n",
       "      <td>0.9353</td>\n",
       "      <td>...</td>\n",
       "      <td>0.0000</td>\n",
       "      <td>0.0059</td>\n",
       "      <td>0.0138</td>\n",
       "      <td>0.0656</td>\n",
       "      <td>1</td>\n",
       "      <td>0.7356</td>\n",
       "      <td>0.8284</td>\n",
       "      <td>0.1049</td>\n",
       "      <td>30300.0</td>\n",
       "      <td>33888.0</td>\n",
       "    </tr>\n",
       "    <tr>\n",
       "      <th>University of Alabama at Birmingham</th>\n",
       "      <td>0.0</td>\n",
       "      <td>0.0</td>\n",
       "      <td>0.0</td>\n",
       "      <td>0</td>\n",
       "      <td>570.0</td>\n",
       "      <td>565.0</td>\n",
       "      <td>0.0</td>\n",
       "      <td>11383.0</td>\n",
       "      <td>0.5922</td>\n",
       "      <td>0.2600</td>\n",
       "      <td>...</td>\n",
       "      <td>0.0368</td>\n",
       "      <td>0.0179</td>\n",
       "      <td>0.0100</td>\n",
       "      <td>0.2607</td>\n",
       "      <td>1</td>\n",
       "      <td>0.3460</td>\n",
       "      <td>0.5214</td>\n",
       "      <td>0.2422</td>\n",
       "      <td>39700.0</td>\n",
       "      <td>21941.5</td>\n",
       "    </tr>\n",
       "  </tbody>\n",
       "</table>\n",
       "<p>2 rows × 24 columns</p>\n",
       "</div>"
      ],
      "text/plain": [
       "                                     HBCU  MENONLY  WOMENONLY  RELAFFIL  \\\n",
       "INSTNM                                                                    \n",
       "Alabama A & M University              1.0      0.0        0.0         0   \n",
       "University of Alabama at Birmingham   0.0      0.0        0.0         0   \n",
       "\n",
       "                                     SATVRMID  SATMTMID  DISTANCEONLY  \\\n",
       "INSTNM                                                                  \n",
       "Alabama A & M University                424.0     420.0           0.0   \n",
       "University of Alabama at Birmingham     570.0     565.0           0.0   \n",
       "\n",
       "                                        UGDS  UGDS_WHITE  UGDS_BLACK  ...  \\\n",
       "INSTNM                                                                ...   \n",
       "Alabama A & M University              4206.0      0.0333      0.9353  ...   \n",
       "University of Alabama at Birmingham  11383.0      0.5922      0.2600  ...   \n",
       "\n",
       "                                     UGDS_2MOR  UGDS_NRA  UGDS_UNKN  PPTUG_EF  \\\n",
       "INSTNM                                                                          \n",
       "Alabama A & M University                0.0000    0.0059     0.0138    0.0656   \n",
       "University of Alabama at Birmingham     0.0368    0.0179     0.0100    0.2607   \n",
       "\n",
       "                                     CURROPER  PCTPELL  PCTFLOAN  UG25ABV  \\\n",
       "INSTNM                                                                      \n",
       "Alabama A & M University                    1   0.7356    0.8284   0.1049   \n",
       "University of Alabama at Birmingham         1   0.3460    0.5214   0.2422   \n",
       "\n",
       "                                     MD_EARN_WNE_P10  GRAD_DEBT_MDN_SUPP  \n",
       "INSTNM                                                                    \n",
       "Alabama A & M University                     30300.0             33888.0  \n",
       "University of Alabama at Birmingham          39700.0             21941.5  \n",
       "\n",
       "[2 rows x 24 columns]"
      ]
     },
     "execution_count": 65,
     "metadata": {},
     "output_type": "execute_result"
    }
   ],
   "source": [
    "#lets filter out the non numeric columns, since finding the max values for strings\n",
    "#dont make sense\n",
    "college_n = college.select_dtypes(include=[np.number])\n",
    "college_n.head(2)"
   ]
  },
  {
   "cell_type": "code",
   "execution_count": 66,
   "metadata": {},
   "outputs": [
    {
     "data": {
      "text/plain": [
       "HBCU          True\n",
       "MENONLY       True\n",
       "WOMENONLY     True\n",
       "RELAFFIL      True\n",
       "SATVRMID     False\n",
       "dtype: bool"
      ]
     },
     "execution_count": 66,
     "metadata": {},
     "output_type": "execute_result"
    }
   ],
   "source": [
    "#A maximum value also does not make sense in the context of binary values.\n",
    "criteria = college_n.nunique() == 2\n",
    "criteria.head()"
   ]
  },
  {
   "cell_type": "code",
   "execution_count": 68,
   "metadata": {},
   "outputs": [
    {
     "data": {
      "text/plain": [
       "['HBCU', 'MENONLY', 'WOMENONLY', 'RELAFFIL', 'DISTANCEONLY', 'CURROPER']"
      ]
     },
     "execution_count": 68,
     "metadata": {},
     "output_type": "execute_result"
    }
   ],
   "source": [
    "#let's get those col names into a list. We can pass these to a function to drop em\n",
    "binary_cols = college_n.columns[criteria].tolist()\n",
    "binary_cols"
   ]
  },
  {
   "cell_type": "code",
   "execution_count": 71,
   "metadata": {},
   "outputs": [
    {
     "data": {
      "text/html": [
       "<div>\n",
       "<style scoped>\n",
       "    .dataframe tbody tr th:only-of-type {\n",
       "        vertical-align: middle;\n",
       "    }\n",
       "\n",
       "    .dataframe tbody tr th {\n",
       "        vertical-align: top;\n",
       "    }\n",
       "\n",
       "    .dataframe thead th {\n",
       "        text-align: right;\n",
       "    }\n",
       "</style>\n",
       "<table border=\"1\" class=\"dataframe\">\n",
       "  <thead>\n",
       "    <tr style=\"text-align: right;\">\n",
       "      <th></th>\n",
       "      <th>SATVRMID</th>\n",
       "      <th>SATMTMID</th>\n",
       "      <th>UGDS</th>\n",
       "      <th>UGDS_WHITE</th>\n",
       "      <th>UGDS_BLACK</th>\n",
       "      <th>UGDS_HISP</th>\n",
       "      <th>UGDS_ASIAN</th>\n",
       "      <th>UGDS_AIAN</th>\n",
       "      <th>UGDS_NHPI</th>\n",
       "      <th>UGDS_2MOR</th>\n",
       "      <th>UGDS_NRA</th>\n",
       "      <th>UGDS_UNKN</th>\n",
       "      <th>PPTUG_EF</th>\n",
       "      <th>PCTPELL</th>\n",
       "      <th>PCTFLOAN</th>\n",
       "      <th>UG25ABV</th>\n",
       "      <th>MD_EARN_WNE_P10</th>\n",
       "      <th>GRAD_DEBT_MDN_SUPP</th>\n",
       "    </tr>\n",
       "    <tr>\n",
       "      <th>INSTNM</th>\n",
       "      <th></th>\n",
       "      <th></th>\n",
       "      <th></th>\n",
       "      <th></th>\n",
       "      <th></th>\n",
       "      <th></th>\n",
       "      <th></th>\n",
       "      <th></th>\n",
       "      <th></th>\n",
       "      <th></th>\n",
       "      <th></th>\n",
       "      <th></th>\n",
       "      <th></th>\n",
       "      <th></th>\n",
       "      <th></th>\n",
       "      <th></th>\n",
       "      <th></th>\n",
       "      <th></th>\n",
       "    </tr>\n",
       "  </thead>\n",
       "  <tbody>\n",
       "    <tr>\n",
       "      <th>Alabama A &amp; M University</th>\n",
       "      <td>424.0</td>\n",
       "      <td>420.0</td>\n",
       "      <td>4206.0</td>\n",
       "      <td>0.0333</td>\n",
       "      <td>0.9353</td>\n",
       "      <td>0.0055</td>\n",
       "      <td>0.0019</td>\n",
       "      <td>0.0024</td>\n",
       "      <td>0.0019</td>\n",
       "      <td>0.0000</td>\n",
       "      <td>0.0059</td>\n",
       "      <td>0.0138</td>\n",
       "      <td>0.0656</td>\n",
       "      <td>0.7356</td>\n",
       "      <td>0.8284</td>\n",
       "      <td>0.1049</td>\n",
       "      <td>30300.0</td>\n",
       "      <td>33888.0</td>\n",
       "    </tr>\n",
       "    <tr>\n",
       "      <th>University of Alabama at Birmingham</th>\n",
       "      <td>570.0</td>\n",
       "      <td>565.0</td>\n",
       "      <td>11383.0</td>\n",
       "      <td>0.5922</td>\n",
       "      <td>0.2600</td>\n",
       "      <td>0.0283</td>\n",
       "      <td>0.0518</td>\n",
       "      <td>0.0022</td>\n",
       "      <td>0.0007</td>\n",
       "      <td>0.0368</td>\n",
       "      <td>0.0179</td>\n",
       "      <td>0.0100</td>\n",
       "      <td>0.2607</td>\n",
       "      <td>0.3460</td>\n",
       "      <td>0.5214</td>\n",
       "      <td>0.2422</td>\n",
       "      <td>39700.0</td>\n",
       "      <td>21941.5</td>\n",
       "    </tr>\n",
       "    <tr>\n",
       "      <th>Amridge University</th>\n",
       "      <td>NaN</td>\n",
       "      <td>NaN</td>\n",
       "      <td>291.0</td>\n",
       "      <td>0.2990</td>\n",
       "      <td>0.4192</td>\n",
       "      <td>0.0069</td>\n",
       "      <td>0.0034</td>\n",
       "      <td>0.0000</td>\n",
       "      <td>0.0000</td>\n",
       "      <td>0.0000</td>\n",
       "      <td>0.0000</td>\n",
       "      <td>0.2715</td>\n",
       "      <td>0.4536</td>\n",
       "      <td>0.6801</td>\n",
       "      <td>0.7795</td>\n",
       "      <td>0.8540</td>\n",
       "      <td>40100.0</td>\n",
       "      <td>23370.0</td>\n",
       "    </tr>\n",
       "  </tbody>\n",
       "</table>\n",
       "</div>"
      ],
      "text/plain": [
       "                                     SATVRMID  SATMTMID     UGDS  UGDS_WHITE  \\\n",
       "INSTNM                                                                         \n",
       "Alabama A & M University                424.0     420.0   4206.0      0.0333   \n",
       "University of Alabama at Birmingham     570.0     565.0  11383.0      0.5922   \n",
       "Amridge University                        NaN       NaN    291.0      0.2990   \n",
       "\n",
       "                                     UGDS_BLACK  UGDS_HISP  UGDS_ASIAN  \\\n",
       "INSTNM                                                                   \n",
       "Alabama A & M University                 0.9353     0.0055      0.0019   \n",
       "University of Alabama at Birmingham      0.2600     0.0283      0.0518   \n",
       "Amridge University                       0.4192     0.0069      0.0034   \n",
       "\n",
       "                                     UGDS_AIAN  UGDS_NHPI  UGDS_2MOR  \\\n",
       "INSTNM                                                                 \n",
       "Alabama A & M University                0.0024     0.0019     0.0000   \n",
       "University of Alabama at Birmingham     0.0022     0.0007     0.0368   \n",
       "Amridge University                      0.0000     0.0000     0.0000   \n",
       "\n",
       "                                     UGDS_NRA  UGDS_UNKN  PPTUG_EF  PCTPELL  \\\n",
       "INSTNM                                                                        \n",
       "Alabama A & M University               0.0059     0.0138    0.0656   0.7356   \n",
       "University of Alabama at Birmingham    0.0179     0.0100    0.2607   0.3460   \n",
       "Amridge University                     0.0000     0.2715    0.4536   0.6801   \n",
       "\n",
       "                                     PCTFLOAN  UG25ABV  MD_EARN_WNE_P10  \\\n",
       "INSTNM                                                                    \n",
       "Alabama A & M University               0.8284   0.1049          30300.0   \n",
       "University of Alabama at Birmingham    0.5214   0.2422          39700.0   \n",
       "Amridge University                     0.7795   0.8540          40100.0   \n",
       "\n",
       "                                     GRAD_DEBT_MDN_SUPP  \n",
       "INSTNM                                                   \n",
       "Alabama A & M University                        33888.0  \n",
       "University of Alabama at Birmingham             21941.5  \n",
       "Amridge University                              23370.0  "
      ]
     },
     "execution_count": 71,
     "metadata": {},
     "output_type": "execute_result"
    }
   ],
   "source": [
    "#let us now remove these columns\n",
    "college_n2 = college_n.drop(labels=binary_cols, axis='columns')\n",
    "college_n2.head(3)"
   ]
  },
  {
   "cell_type": "code",
   "execution_count": 74,
   "metadata": {},
   "outputs": [
    {
     "data": {
      "text/plain": [
       "SATVRMID                             California Institute of Technology\n",
       "SATMTMID                             California Institute of Technology\n",
       "UGDS                                      University of Phoenix-Arizona\n",
       "UGDS_WHITE                       Mr Leon's School of Hair Design-Moscow\n",
       "UGDS_BLACK                           Velvatex College of Beauty Culture\n",
       "UGDS_HISP                       Thunderbird School of Global Management\n",
       "UGDS_ASIAN                          Cosmopolitan Beauty and Tech School\n",
       "UGDS_AIAN                             Haskell Indian Nations University\n",
       "UGDS_NHPI                                       Palau Community College\n",
       "UGDS_2MOR                                                 LIU Brentwood\n",
       "UGDS_NRA               California University of Management and Sciences\n",
       "UGDS_UNKN             Le Cordon Bleu College of Culinary Arts-San Fr...\n",
       "PPTUG_EF                        Thunderbird School of Global Management\n",
       "PCTPELL                                        MTI Business College Inc\n",
       "PCTFLOAN                                         ABC Beauty College Inc\n",
       "UG25ABV                                  Dongguk University-Los Angeles\n",
       "MD_EARN_WNE_P10                            Medical College of Wisconsin\n",
       "GRAD_DEBT_MDN_SUPP           Southwest University of Visual Arts-Tucson\n",
       "dtype: object"
      ]
     },
     "execution_count": 74,
     "metadata": {},
     "output_type": "execute_result"
    }
   ],
   "source": [
    "#we get the row index label corresponding to the max val in each column\n",
    "col_max_vals = college_n2.idxmax()\n",
    "col_max_vals"
   ]
  },
  {
   "cell_type": "code",
   "execution_count": 79,
   "metadata": {},
   "outputs": [
    {
     "data": {
      "text/plain": [
       "array(['California Institute of Technology',\n",
       "       'University of Phoenix-Arizona',\n",
       "       \"Mr Leon's School of Hair Design-Moscow\"], dtype=object)"
      ]
     },
     "execution_count": 79,
     "metadata": {},
     "output_type": "execute_result"
    }
   ],
   "source": [
    "unique_col_max_vals = col_max_vals.unique()\n",
    "unique_col_max_vals[:3]"
   ]
  },
  {
   "cell_type": "code",
   "execution_count": 83,
   "metadata": {},
   "outputs": [
    {
     "data": {
      "text/html": [
       "<style  type=\"text/css\" >\n",
       "    #T_15d6ca2c_8af2_11e9_a02f_7cb0c24cd038row0_col0 {\n",
       "            background-color:  yellow;\n",
       "        }    #T_15d6ca2c_8af2_11e9_a02f_7cb0c24cd038row0_col1 {\n",
       "            background-color:  yellow;\n",
       "        }    #T_15d6ca2c_8af2_11e9_a02f_7cb0c24cd038row1_col2 {\n",
       "            background-color:  yellow;\n",
       "        }    #T_15d6ca2c_8af2_11e9_a02f_7cb0c24cd038row2_col3 {\n",
       "            background-color:  yellow;\n",
       "        }    #T_15d6ca2c_8af2_11e9_a02f_7cb0c24cd038row3_col4 {\n",
       "            background-color:  yellow;\n",
       "        }    #T_15d6ca2c_8af2_11e9_a02f_7cb0c24cd038row4_col5 {\n",
       "            background-color:  yellow;\n",
       "        }    #T_15d6ca2c_8af2_11e9_a02f_7cb0c24cd038row4_col12 {\n",
       "            background-color:  yellow;\n",
       "        }    #T_15d6ca2c_8af2_11e9_a02f_7cb0c24cd038row5_col6 {\n",
       "            background-color:  yellow;\n",
       "        }    #T_15d6ca2c_8af2_11e9_a02f_7cb0c24cd038row6_col7 {\n",
       "            background-color:  yellow;\n",
       "        }    #T_15d6ca2c_8af2_11e9_a02f_7cb0c24cd038row7_col8 {\n",
       "            background-color:  yellow;\n",
       "        }    #T_15d6ca2c_8af2_11e9_a02f_7cb0c24cd038row8_col9 {\n",
       "            background-color:  yellow;\n",
       "        }    #T_15d6ca2c_8af2_11e9_a02f_7cb0c24cd038row9_col10 {\n",
       "            background-color:  yellow;\n",
       "        }    #T_15d6ca2c_8af2_11e9_a02f_7cb0c24cd038row10_col11 {\n",
       "            background-color:  yellow;\n",
       "        }    #T_15d6ca2c_8af2_11e9_a02f_7cb0c24cd038row11_col13 {\n",
       "            background-color:  yellow;\n",
       "        }    #T_15d6ca2c_8af2_11e9_a02f_7cb0c24cd038row11_col14 {\n",
       "            background-color:  yellow;\n",
       "        }    #T_15d6ca2c_8af2_11e9_a02f_7cb0c24cd038row12_col14 {\n",
       "            background-color:  yellow;\n",
       "        }    #T_15d6ca2c_8af2_11e9_a02f_7cb0c24cd038row13_col15 {\n",
       "            background-color:  yellow;\n",
       "        }    #T_15d6ca2c_8af2_11e9_a02f_7cb0c24cd038row14_col16 {\n",
       "            background-color:  yellow;\n",
       "        }    #T_15d6ca2c_8af2_11e9_a02f_7cb0c24cd038row15_col17 {\n",
       "            background-color:  yellow;\n",
       "        }</style><table id=\"T_15d6ca2c_8af2_11e9_a02f_7cb0c24cd038\" ><thead>    <tr>        <th class=\"blank level0\" ></th>        <th class=\"col_heading level0 col0\" >SATVRMID</th>        <th class=\"col_heading level0 col1\" >SATMTMID</th>        <th class=\"col_heading level0 col2\" >UGDS</th>        <th class=\"col_heading level0 col3\" >UGDS_WHITE</th>        <th class=\"col_heading level0 col4\" >UGDS_BLACK</th>        <th class=\"col_heading level0 col5\" >UGDS_HISP</th>        <th class=\"col_heading level0 col6\" >UGDS_ASIAN</th>        <th class=\"col_heading level0 col7\" >UGDS_AIAN</th>        <th class=\"col_heading level0 col8\" >UGDS_NHPI</th>        <th class=\"col_heading level0 col9\" >UGDS_2MOR</th>        <th class=\"col_heading level0 col10\" >UGDS_NRA</th>        <th class=\"col_heading level0 col11\" >UGDS_UNKN</th>        <th class=\"col_heading level0 col12\" >PPTUG_EF</th>        <th class=\"col_heading level0 col13\" >PCTPELL</th>        <th class=\"col_heading level0 col14\" >PCTFLOAN</th>        <th class=\"col_heading level0 col15\" >UG25ABV</th>        <th class=\"col_heading level0 col16\" >MD_EARN_WNE_P10</th>        <th class=\"col_heading level0 col17\" >GRAD_DEBT_MDN_SUPP</th>    </tr>    <tr>        <th class=\"index_name level0\" >INSTNM</th>        <th class=\"blank\" ></th>        <th class=\"blank\" ></th>        <th class=\"blank\" ></th>        <th class=\"blank\" ></th>        <th class=\"blank\" ></th>        <th class=\"blank\" ></th>        <th class=\"blank\" ></th>        <th class=\"blank\" ></th>        <th class=\"blank\" ></th>        <th class=\"blank\" ></th>        <th class=\"blank\" ></th>        <th class=\"blank\" ></th>        <th class=\"blank\" ></th>        <th class=\"blank\" ></th>        <th class=\"blank\" ></th>        <th class=\"blank\" ></th>        <th class=\"blank\" ></th>        <th class=\"blank\" ></th>    </tr></thead><tbody>\n",
       "                <tr>\n",
       "                        <th id=\"T_15d6ca2c_8af2_11e9_a02f_7cb0c24cd038level0_row0\" class=\"row_heading level0 row0\" >California Institute of Technology</th>\n",
       "                        <td id=\"T_15d6ca2c_8af2_11e9_a02f_7cb0c24cd038row0_col0\" class=\"data row0 col0\" >765</td>\n",
       "                        <td id=\"T_15d6ca2c_8af2_11e9_a02f_7cb0c24cd038row0_col1\" class=\"data row0 col1\" >785</td>\n",
       "                        <td id=\"T_15d6ca2c_8af2_11e9_a02f_7cb0c24cd038row0_col2\" class=\"data row0 col2\" >983</td>\n",
       "                        <td id=\"T_15d6ca2c_8af2_11e9_a02f_7cb0c24cd038row0_col3\" class=\"data row0 col3\" >0.2787</td>\n",
       "                        <td id=\"T_15d6ca2c_8af2_11e9_a02f_7cb0c24cd038row0_col4\" class=\"data row0 col4\" >0.0153</td>\n",
       "                        <td id=\"T_15d6ca2c_8af2_11e9_a02f_7cb0c24cd038row0_col5\" class=\"data row0 col5\" >0.1221</td>\n",
       "                        <td id=\"T_15d6ca2c_8af2_11e9_a02f_7cb0c24cd038row0_col6\" class=\"data row0 col6\" >0.4385</td>\n",
       "                        <td id=\"T_15d6ca2c_8af2_11e9_a02f_7cb0c24cd038row0_col7\" class=\"data row0 col7\" >0.001</td>\n",
       "                        <td id=\"T_15d6ca2c_8af2_11e9_a02f_7cb0c24cd038row0_col8\" class=\"data row0 col8\" >0</td>\n",
       "                        <td id=\"T_15d6ca2c_8af2_11e9_a02f_7cb0c24cd038row0_col9\" class=\"data row0 col9\" >0.057</td>\n",
       "                        <td id=\"T_15d6ca2c_8af2_11e9_a02f_7cb0c24cd038row0_col10\" class=\"data row0 col10\" >0.0875</td>\n",
       "                        <td id=\"T_15d6ca2c_8af2_11e9_a02f_7cb0c24cd038row0_col11\" class=\"data row0 col11\" >0</td>\n",
       "                        <td id=\"T_15d6ca2c_8af2_11e9_a02f_7cb0c24cd038row0_col12\" class=\"data row0 col12\" >0</td>\n",
       "                        <td id=\"T_15d6ca2c_8af2_11e9_a02f_7cb0c24cd038row0_col13\" class=\"data row0 col13\" >0.1126</td>\n",
       "                        <td id=\"T_15d6ca2c_8af2_11e9_a02f_7cb0c24cd038row0_col14\" class=\"data row0 col14\" >0.2303</td>\n",
       "                        <td id=\"T_15d6ca2c_8af2_11e9_a02f_7cb0c24cd038row0_col15\" class=\"data row0 col15\" >0.0082</td>\n",
       "                        <td id=\"T_15d6ca2c_8af2_11e9_a02f_7cb0c24cd038row0_col16\" class=\"data row0 col16\" >77800</td>\n",
       "                        <td id=\"T_15d6ca2c_8af2_11e9_a02f_7cb0c24cd038row0_col17\" class=\"data row0 col17\" >11812.5</td>\n",
       "            </tr>\n",
       "            <tr>\n",
       "                        <th id=\"T_15d6ca2c_8af2_11e9_a02f_7cb0c24cd038level0_row1\" class=\"row_heading level0 row1\" >University of Phoenix-Arizona</th>\n",
       "                        <td id=\"T_15d6ca2c_8af2_11e9_a02f_7cb0c24cd038row1_col0\" class=\"data row1 col0\" >nan</td>\n",
       "                        <td id=\"T_15d6ca2c_8af2_11e9_a02f_7cb0c24cd038row1_col1\" class=\"data row1 col1\" >nan</td>\n",
       "                        <td id=\"T_15d6ca2c_8af2_11e9_a02f_7cb0c24cd038row1_col2\" class=\"data row1 col2\" >151558</td>\n",
       "                        <td id=\"T_15d6ca2c_8af2_11e9_a02f_7cb0c24cd038row1_col3\" class=\"data row1 col3\" >0.3098</td>\n",
       "                        <td id=\"T_15d6ca2c_8af2_11e9_a02f_7cb0c24cd038row1_col4\" class=\"data row1 col4\" >0.1555</td>\n",
       "                        <td id=\"T_15d6ca2c_8af2_11e9_a02f_7cb0c24cd038row1_col5\" class=\"data row1 col5\" >0.076</td>\n",
       "                        <td id=\"T_15d6ca2c_8af2_11e9_a02f_7cb0c24cd038row1_col6\" class=\"data row1 col6\" >0.0082</td>\n",
       "                        <td id=\"T_15d6ca2c_8af2_11e9_a02f_7cb0c24cd038row1_col7\" class=\"data row1 col7\" >0.0042</td>\n",
       "                        <td id=\"T_15d6ca2c_8af2_11e9_a02f_7cb0c24cd038row1_col8\" class=\"data row1 col8\" >0.005</td>\n",
       "                        <td id=\"T_15d6ca2c_8af2_11e9_a02f_7cb0c24cd038row1_col9\" class=\"data row1 col9\" >0.1131</td>\n",
       "                        <td id=\"T_15d6ca2c_8af2_11e9_a02f_7cb0c24cd038row1_col10\" class=\"data row1 col10\" >0.0131</td>\n",
       "                        <td id=\"T_15d6ca2c_8af2_11e9_a02f_7cb0c24cd038row1_col11\" class=\"data row1 col11\" >0.3152</td>\n",
       "                        <td id=\"T_15d6ca2c_8af2_11e9_a02f_7cb0c24cd038row1_col12\" class=\"data row1 col12\" >0</td>\n",
       "                        <td id=\"T_15d6ca2c_8af2_11e9_a02f_7cb0c24cd038row1_col13\" class=\"data row1 col13\" >0.6009</td>\n",
       "                        <td id=\"T_15d6ca2c_8af2_11e9_a02f_7cb0c24cd038row1_col14\" class=\"data row1 col14\" >0.592</td>\n",
       "                        <td id=\"T_15d6ca2c_8af2_11e9_a02f_7cb0c24cd038row1_col15\" class=\"data row1 col15\" >nan</td>\n",
       "                        <td id=\"T_15d6ca2c_8af2_11e9_a02f_7cb0c24cd038row1_col16\" class=\"data row1 col16\" >nan</td>\n",
       "                        <td id=\"T_15d6ca2c_8af2_11e9_a02f_7cb0c24cd038row1_col17\" class=\"data row1 col17\" >33000</td>\n",
       "            </tr>\n",
       "            <tr>\n",
       "                        <th id=\"T_15d6ca2c_8af2_11e9_a02f_7cb0c24cd038level0_row2\" class=\"row_heading level0 row2\" >Mr Leon's School of Hair Design-Moscow</th>\n",
       "                        <td id=\"T_15d6ca2c_8af2_11e9_a02f_7cb0c24cd038row2_col0\" class=\"data row2 col0\" >nan</td>\n",
       "                        <td id=\"T_15d6ca2c_8af2_11e9_a02f_7cb0c24cd038row2_col1\" class=\"data row2 col1\" >nan</td>\n",
       "                        <td id=\"T_15d6ca2c_8af2_11e9_a02f_7cb0c24cd038row2_col2\" class=\"data row2 col2\" >16</td>\n",
       "                        <td id=\"T_15d6ca2c_8af2_11e9_a02f_7cb0c24cd038row2_col3\" class=\"data row2 col3\" >1</td>\n",
       "                        <td id=\"T_15d6ca2c_8af2_11e9_a02f_7cb0c24cd038row2_col4\" class=\"data row2 col4\" >0</td>\n",
       "                        <td id=\"T_15d6ca2c_8af2_11e9_a02f_7cb0c24cd038row2_col5\" class=\"data row2 col5\" >0</td>\n",
       "                        <td id=\"T_15d6ca2c_8af2_11e9_a02f_7cb0c24cd038row2_col6\" class=\"data row2 col6\" >0</td>\n",
       "                        <td id=\"T_15d6ca2c_8af2_11e9_a02f_7cb0c24cd038row2_col7\" class=\"data row2 col7\" >0</td>\n",
       "                        <td id=\"T_15d6ca2c_8af2_11e9_a02f_7cb0c24cd038row2_col8\" class=\"data row2 col8\" >0</td>\n",
       "                        <td id=\"T_15d6ca2c_8af2_11e9_a02f_7cb0c24cd038row2_col9\" class=\"data row2 col9\" >0</td>\n",
       "                        <td id=\"T_15d6ca2c_8af2_11e9_a02f_7cb0c24cd038row2_col10\" class=\"data row2 col10\" >0</td>\n",
       "                        <td id=\"T_15d6ca2c_8af2_11e9_a02f_7cb0c24cd038row2_col11\" class=\"data row2 col11\" >0</td>\n",
       "                        <td id=\"T_15d6ca2c_8af2_11e9_a02f_7cb0c24cd038row2_col12\" class=\"data row2 col12\" >0</td>\n",
       "                        <td id=\"T_15d6ca2c_8af2_11e9_a02f_7cb0c24cd038row2_col13\" class=\"data row2 col13\" >0.625</td>\n",
       "                        <td id=\"T_15d6ca2c_8af2_11e9_a02f_7cb0c24cd038row2_col14\" class=\"data row2 col14\" >0.625</td>\n",
       "                        <td id=\"T_15d6ca2c_8af2_11e9_a02f_7cb0c24cd038row2_col15\" class=\"data row2 col15\" >0.2</td>\n",
       "                        <td id=\"T_15d6ca2c_8af2_11e9_a02f_7cb0c24cd038row2_col16\" class=\"data row2 col16\" >nan</td>\n",
       "                        <td id=\"T_15d6ca2c_8af2_11e9_a02f_7cb0c24cd038row2_col17\" class=\"data row2 col17\" >15710</td>\n",
       "            </tr>\n",
       "            <tr>\n",
       "                        <th id=\"T_15d6ca2c_8af2_11e9_a02f_7cb0c24cd038level0_row3\" class=\"row_heading level0 row3\" >Velvatex College of Beauty Culture</th>\n",
       "                        <td id=\"T_15d6ca2c_8af2_11e9_a02f_7cb0c24cd038row3_col0\" class=\"data row3 col0\" >nan</td>\n",
       "                        <td id=\"T_15d6ca2c_8af2_11e9_a02f_7cb0c24cd038row3_col1\" class=\"data row3 col1\" >nan</td>\n",
       "                        <td id=\"T_15d6ca2c_8af2_11e9_a02f_7cb0c24cd038row3_col2\" class=\"data row3 col2\" >25</td>\n",
       "                        <td id=\"T_15d6ca2c_8af2_11e9_a02f_7cb0c24cd038row3_col3\" class=\"data row3 col3\" >0</td>\n",
       "                        <td id=\"T_15d6ca2c_8af2_11e9_a02f_7cb0c24cd038row3_col4\" class=\"data row3 col4\" >1</td>\n",
       "                        <td id=\"T_15d6ca2c_8af2_11e9_a02f_7cb0c24cd038row3_col5\" class=\"data row3 col5\" >0</td>\n",
       "                        <td id=\"T_15d6ca2c_8af2_11e9_a02f_7cb0c24cd038row3_col6\" class=\"data row3 col6\" >0</td>\n",
       "                        <td id=\"T_15d6ca2c_8af2_11e9_a02f_7cb0c24cd038row3_col7\" class=\"data row3 col7\" >0</td>\n",
       "                        <td id=\"T_15d6ca2c_8af2_11e9_a02f_7cb0c24cd038row3_col8\" class=\"data row3 col8\" >0</td>\n",
       "                        <td id=\"T_15d6ca2c_8af2_11e9_a02f_7cb0c24cd038row3_col9\" class=\"data row3 col9\" >0</td>\n",
       "                        <td id=\"T_15d6ca2c_8af2_11e9_a02f_7cb0c24cd038row3_col10\" class=\"data row3 col10\" >0</td>\n",
       "                        <td id=\"T_15d6ca2c_8af2_11e9_a02f_7cb0c24cd038row3_col11\" class=\"data row3 col11\" >0</td>\n",
       "                        <td id=\"T_15d6ca2c_8af2_11e9_a02f_7cb0c24cd038row3_col12\" class=\"data row3 col12\" >0.2</td>\n",
       "                        <td id=\"T_15d6ca2c_8af2_11e9_a02f_7cb0c24cd038row3_col13\" class=\"data row3 col13\" >0.7692</td>\n",
       "                        <td id=\"T_15d6ca2c_8af2_11e9_a02f_7cb0c24cd038row3_col14\" class=\"data row3 col14\" >0</td>\n",
       "                        <td id=\"T_15d6ca2c_8af2_11e9_a02f_7cb0c24cd038row3_col15\" class=\"data row3 col15\" >0.52</td>\n",
       "                        <td id=\"T_15d6ca2c_8af2_11e9_a02f_7cb0c24cd038row3_col16\" class=\"data row3 col16\" >nan</td>\n",
       "                        <td id=\"T_15d6ca2c_8af2_11e9_a02f_7cb0c24cd038row3_col17\" class=\"data row3 col17\" >nan</td>\n",
       "            </tr>\n",
       "            <tr>\n",
       "                        <th id=\"T_15d6ca2c_8af2_11e9_a02f_7cb0c24cd038level0_row4\" class=\"row_heading level0 row4\" >Thunderbird School of Global Management</th>\n",
       "                        <td id=\"T_15d6ca2c_8af2_11e9_a02f_7cb0c24cd038row4_col0\" class=\"data row4 col0\" >nan</td>\n",
       "                        <td id=\"T_15d6ca2c_8af2_11e9_a02f_7cb0c24cd038row4_col1\" class=\"data row4 col1\" >nan</td>\n",
       "                        <td id=\"T_15d6ca2c_8af2_11e9_a02f_7cb0c24cd038row4_col2\" class=\"data row4 col2\" >1</td>\n",
       "                        <td id=\"T_15d6ca2c_8af2_11e9_a02f_7cb0c24cd038row4_col3\" class=\"data row4 col3\" >0</td>\n",
       "                        <td id=\"T_15d6ca2c_8af2_11e9_a02f_7cb0c24cd038row4_col4\" class=\"data row4 col4\" >0</td>\n",
       "                        <td id=\"T_15d6ca2c_8af2_11e9_a02f_7cb0c24cd038row4_col5\" class=\"data row4 col5\" >1</td>\n",
       "                        <td id=\"T_15d6ca2c_8af2_11e9_a02f_7cb0c24cd038row4_col6\" class=\"data row4 col6\" >0</td>\n",
       "                        <td id=\"T_15d6ca2c_8af2_11e9_a02f_7cb0c24cd038row4_col7\" class=\"data row4 col7\" >0</td>\n",
       "                        <td id=\"T_15d6ca2c_8af2_11e9_a02f_7cb0c24cd038row4_col8\" class=\"data row4 col8\" >0</td>\n",
       "                        <td id=\"T_15d6ca2c_8af2_11e9_a02f_7cb0c24cd038row4_col9\" class=\"data row4 col9\" >0</td>\n",
       "                        <td id=\"T_15d6ca2c_8af2_11e9_a02f_7cb0c24cd038row4_col10\" class=\"data row4 col10\" >0</td>\n",
       "                        <td id=\"T_15d6ca2c_8af2_11e9_a02f_7cb0c24cd038row4_col11\" class=\"data row4 col11\" >0</td>\n",
       "                        <td id=\"T_15d6ca2c_8af2_11e9_a02f_7cb0c24cd038row4_col12\" class=\"data row4 col12\" >1</td>\n",
       "                        <td id=\"T_15d6ca2c_8af2_11e9_a02f_7cb0c24cd038row4_col13\" class=\"data row4 col13\" >0</td>\n",
       "                        <td id=\"T_15d6ca2c_8af2_11e9_a02f_7cb0c24cd038row4_col14\" class=\"data row4 col14\" >0</td>\n",
       "                        <td id=\"T_15d6ca2c_8af2_11e9_a02f_7cb0c24cd038row4_col15\" class=\"data row4 col15\" >0</td>\n",
       "                        <td id=\"T_15d6ca2c_8af2_11e9_a02f_7cb0c24cd038row4_col16\" class=\"data row4 col16\" >118900</td>\n",
       "                        <td id=\"T_15d6ca2c_8af2_11e9_a02f_7cb0c24cd038row4_col17\" class=\"data row4 col17\" >nan</td>\n",
       "            </tr>\n",
       "            <tr>\n",
       "                        <th id=\"T_15d6ca2c_8af2_11e9_a02f_7cb0c24cd038level0_row5\" class=\"row_heading level0 row5\" >Cosmopolitan Beauty and Tech School</th>\n",
       "                        <td id=\"T_15d6ca2c_8af2_11e9_a02f_7cb0c24cd038row5_col0\" class=\"data row5 col0\" >nan</td>\n",
       "                        <td id=\"T_15d6ca2c_8af2_11e9_a02f_7cb0c24cd038row5_col1\" class=\"data row5 col1\" >nan</td>\n",
       "                        <td id=\"T_15d6ca2c_8af2_11e9_a02f_7cb0c24cd038row5_col2\" class=\"data row5 col2\" >110</td>\n",
       "                        <td id=\"T_15d6ca2c_8af2_11e9_a02f_7cb0c24cd038row5_col3\" class=\"data row5 col3\" >0.0091</td>\n",
       "                        <td id=\"T_15d6ca2c_8af2_11e9_a02f_7cb0c24cd038row5_col4\" class=\"data row5 col4\" >0</td>\n",
       "                        <td id=\"T_15d6ca2c_8af2_11e9_a02f_7cb0c24cd038row5_col5\" class=\"data row5 col5\" >0.0182</td>\n",
       "                        <td id=\"T_15d6ca2c_8af2_11e9_a02f_7cb0c24cd038row5_col6\" class=\"data row5 col6\" >0.9727</td>\n",
       "                        <td id=\"T_15d6ca2c_8af2_11e9_a02f_7cb0c24cd038row5_col7\" class=\"data row5 col7\" >0</td>\n",
       "                        <td id=\"T_15d6ca2c_8af2_11e9_a02f_7cb0c24cd038row5_col8\" class=\"data row5 col8\" >0</td>\n",
       "                        <td id=\"T_15d6ca2c_8af2_11e9_a02f_7cb0c24cd038row5_col9\" class=\"data row5 col9\" >0</td>\n",
       "                        <td id=\"T_15d6ca2c_8af2_11e9_a02f_7cb0c24cd038row5_col10\" class=\"data row5 col10\" >0</td>\n",
       "                        <td id=\"T_15d6ca2c_8af2_11e9_a02f_7cb0c24cd038row5_col11\" class=\"data row5 col11\" >0</td>\n",
       "                        <td id=\"T_15d6ca2c_8af2_11e9_a02f_7cb0c24cd038row5_col12\" class=\"data row5 col12\" >0.3182</td>\n",
       "                        <td id=\"T_15d6ca2c_8af2_11e9_a02f_7cb0c24cd038row5_col13\" class=\"data row5 col13\" >0.7761</td>\n",
       "                        <td id=\"T_15d6ca2c_8af2_11e9_a02f_7cb0c24cd038row5_col14\" class=\"data row5 col14\" >0.1244</td>\n",
       "                        <td id=\"T_15d6ca2c_8af2_11e9_a02f_7cb0c24cd038row5_col15\" class=\"data row5 col15\" >0.9545</td>\n",
       "                        <td id=\"T_15d6ca2c_8af2_11e9_a02f_7cb0c24cd038row5_col16\" class=\"data row5 col16\" >nan</td>\n",
       "                        <td id=\"T_15d6ca2c_8af2_11e9_a02f_7cb0c24cd038row5_col17\" class=\"data row5 col17\" >nan</td>\n",
       "            </tr>\n",
       "            <tr>\n",
       "                        <th id=\"T_15d6ca2c_8af2_11e9_a02f_7cb0c24cd038level0_row6\" class=\"row_heading level0 row6\" >Haskell Indian Nations University</th>\n",
       "                        <td id=\"T_15d6ca2c_8af2_11e9_a02f_7cb0c24cd038row6_col0\" class=\"data row6 col0\" >430</td>\n",
       "                        <td id=\"T_15d6ca2c_8af2_11e9_a02f_7cb0c24cd038row6_col1\" class=\"data row6 col1\" >440</td>\n",
       "                        <td id=\"T_15d6ca2c_8af2_11e9_a02f_7cb0c24cd038row6_col2\" class=\"data row6 col2\" >805</td>\n",
       "                        <td id=\"T_15d6ca2c_8af2_11e9_a02f_7cb0c24cd038row6_col3\" class=\"data row6 col3\" >0</td>\n",
       "                        <td id=\"T_15d6ca2c_8af2_11e9_a02f_7cb0c24cd038row6_col4\" class=\"data row6 col4\" >0</td>\n",
       "                        <td id=\"T_15d6ca2c_8af2_11e9_a02f_7cb0c24cd038row6_col5\" class=\"data row6 col5\" >0</td>\n",
       "                        <td id=\"T_15d6ca2c_8af2_11e9_a02f_7cb0c24cd038row6_col6\" class=\"data row6 col6\" >0</td>\n",
       "                        <td id=\"T_15d6ca2c_8af2_11e9_a02f_7cb0c24cd038row6_col7\" class=\"data row6 col7\" >1</td>\n",
       "                        <td id=\"T_15d6ca2c_8af2_11e9_a02f_7cb0c24cd038row6_col8\" class=\"data row6 col8\" >0</td>\n",
       "                        <td id=\"T_15d6ca2c_8af2_11e9_a02f_7cb0c24cd038row6_col9\" class=\"data row6 col9\" >0</td>\n",
       "                        <td id=\"T_15d6ca2c_8af2_11e9_a02f_7cb0c24cd038row6_col10\" class=\"data row6 col10\" >0</td>\n",
       "                        <td id=\"T_15d6ca2c_8af2_11e9_a02f_7cb0c24cd038row6_col11\" class=\"data row6 col11\" >0</td>\n",
       "                        <td id=\"T_15d6ca2c_8af2_11e9_a02f_7cb0c24cd038row6_col12\" class=\"data row6 col12\" >0.0224</td>\n",
       "                        <td id=\"T_15d6ca2c_8af2_11e9_a02f_7cb0c24cd038row6_col13\" class=\"data row6 col13\" >0.8396</td>\n",
       "                        <td id=\"T_15d6ca2c_8af2_11e9_a02f_7cb0c24cd038row6_col14\" class=\"data row6 col14\" >0</td>\n",
       "                        <td id=\"T_15d6ca2c_8af2_11e9_a02f_7cb0c24cd038row6_col15\" class=\"data row6 col15\" >0.2089</td>\n",
       "                        <td id=\"T_15d6ca2c_8af2_11e9_a02f_7cb0c24cd038row6_col16\" class=\"data row6 col16\" >22800</td>\n",
       "                        <td id=\"T_15d6ca2c_8af2_11e9_a02f_7cb0c24cd038row6_col17\" class=\"data row6 col17\" >nan</td>\n",
       "            </tr>\n",
       "            <tr>\n",
       "                        <th id=\"T_15d6ca2c_8af2_11e9_a02f_7cb0c24cd038level0_row7\" class=\"row_heading level0 row7\" >Palau Community College</th>\n",
       "                        <td id=\"T_15d6ca2c_8af2_11e9_a02f_7cb0c24cd038row7_col0\" class=\"data row7 col0\" >nan</td>\n",
       "                        <td id=\"T_15d6ca2c_8af2_11e9_a02f_7cb0c24cd038row7_col1\" class=\"data row7 col1\" >nan</td>\n",
       "                        <td id=\"T_15d6ca2c_8af2_11e9_a02f_7cb0c24cd038row7_col2\" class=\"data row7 col2\" >602</td>\n",
       "                        <td id=\"T_15d6ca2c_8af2_11e9_a02f_7cb0c24cd038row7_col3\" class=\"data row7 col3\" >0</td>\n",
       "                        <td id=\"T_15d6ca2c_8af2_11e9_a02f_7cb0c24cd038row7_col4\" class=\"data row7 col4\" >0.0017</td>\n",
       "                        <td id=\"T_15d6ca2c_8af2_11e9_a02f_7cb0c24cd038row7_col5\" class=\"data row7 col5\" >0</td>\n",
       "                        <td id=\"T_15d6ca2c_8af2_11e9_a02f_7cb0c24cd038row7_col6\" class=\"data row7 col6\" >0</td>\n",
       "                        <td id=\"T_15d6ca2c_8af2_11e9_a02f_7cb0c24cd038row7_col7\" class=\"data row7 col7\" >0</td>\n",
       "                        <td id=\"T_15d6ca2c_8af2_11e9_a02f_7cb0c24cd038row7_col8\" class=\"data row7 col8\" >0.9983</td>\n",
       "                        <td id=\"T_15d6ca2c_8af2_11e9_a02f_7cb0c24cd038row7_col9\" class=\"data row7 col9\" >0</td>\n",
       "                        <td id=\"T_15d6ca2c_8af2_11e9_a02f_7cb0c24cd038row7_col10\" class=\"data row7 col10\" >0</td>\n",
       "                        <td id=\"T_15d6ca2c_8af2_11e9_a02f_7cb0c24cd038row7_col11\" class=\"data row7 col11\" >0</td>\n",
       "                        <td id=\"T_15d6ca2c_8af2_11e9_a02f_7cb0c24cd038row7_col12\" class=\"data row7 col12\" >0.3887</td>\n",
       "                        <td id=\"T_15d6ca2c_8af2_11e9_a02f_7cb0c24cd038row7_col13\" class=\"data row7 col13\" >0.856</td>\n",
       "                        <td id=\"T_15d6ca2c_8af2_11e9_a02f_7cb0c24cd038row7_col14\" class=\"data row7 col14\" >0</td>\n",
       "                        <td id=\"T_15d6ca2c_8af2_11e9_a02f_7cb0c24cd038row7_col15\" class=\"data row7 col15\" >0.2616</td>\n",
       "                        <td id=\"T_15d6ca2c_8af2_11e9_a02f_7cb0c24cd038row7_col16\" class=\"data row7 col16\" >24700</td>\n",
       "                        <td id=\"T_15d6ca2c_8af2_11e9_a02f_7cb0c24cd038row7_col17\" class=\"data row7 col17\" >nan</td>\n",
       "            </tr>\n",
       "            <tr>\n",
       "                        <th id=\"T_15d6ca2c_8af2_11e9_a02f_7cb0c24cd038level0_row8\" class=\"row_heading level0 row8\" >LIU Brentwood</th>\n",
       "                        <td id=\"T_15d6ca2c_8af2_11e9_a02f_7cb0c24cd038row8_col0\" class=\"data row8 col0\" >nan</td>\n",
       "                        <td id=\"T_15d6ca2c_8af2_11e9_a02f_7cb0c24cd038row8_col1\" class=\"data row8 col1\" >nan</td>\n",
       "                        <td id=\"T_15d6ca2c_8af2_11e9_a02f_7cb0c24cd038row8_col2\" class=\"data row8 col2\" >15</td>\n",
       "                        <td id=\"T_15d6ca2c_8af2_11e9_a02f_7cb0c24cd038row8_col3\" class=\"data row8 col3\" >0</td>\n",
       "                        <td id=\"T_15d6ca2c_8af2_11e9_a02f_7cb0c24cd038row8_col4\" class=\"data row8 col4\" >0.1333</td>\n",
       "                        <td id=\"T_15d6ca2c_8af2_11e9_a02f_7cb0c24cd038row8_col5\" class=\"data row8 col5\" >0.2667</td>\n",
       "                        <td id=\"T_15d6ca2c_8af2_11e9_a02f_7cb0c24cd038row8_col6\" class=\"data row8 col6\" >0</td>\n",
       "                        <td id=\"T_15d6ca2c_8af2_11e9_a02f_7cb0c24cd038row8_col7\" class=\"data row8 col7\" >0</td>\n",
       "                        <td id=\"T_15d6ca2c_8af2_11e9_a02f_7cb0c24cd038row8_col8\" class=\"data row8 col8\" >0</td>\n",
       "                        <td id=\"T_15d6ca2c_8af2_11e9_a02f_7cb0c24cd038row8_col9\" class=\"data row8 col9\" >0.5333</td>\n",
       "                        <td id=\"T_15d6ca2c_8af2_11e9_a02f_7cb0c24cd038row8_col10\" class=\"data row8 col10\" >0</td>\n",
       "                        <td id=\"T_15d6ca2c_8af2_11e9_a02f_7cb0c24cd038row8_col11\" class=\"data row8 col11\" >0.0667</td>\n",
       "                        <td id=\"T_15d6ca2c_8af2_11e9_a02f_7cb0c24cd038row8_col12\" class=\"data row8 col12\" >0.4</td>\n",
       "                        <td id=\"T_15d6ca2c_8af2_11e9_a02f_7cb0c24cd038row8_col13\" class=\"data row8 col13\" >0.5652</td>\n",
       "                        <td id=\"T_15d6ca2c_8af2_11e9_a02f_7cb0c24cd038row8_col14\" class=\"data row8 col14\" >0.7826</td>\n",
       "                        <td id=\"T_15d6ca2c_8af2_11e9_a02f_7cb0c24cd038row8_col15\" class=\"data row8 col15\" >0.7826</td>\n",
       "                        <td id=\"T_15d6ca2c_8af2_11e9_a02f_7cb0c24cd038row8_col16\" class=\"data row8 col16\" >44600</td>\n",
       "                        <td id=\"T_15d6ca2c_8af2_11e9_a02f_7cb0c24cd038row8_col17\" class=\"data row8 col17\" >25499</td>\n",
       "            </tr>\n",
       "            <tr>\n",
       "                        <th id=\"T_15d6ca2c_8af2_11e9_a02f_7cb0c24cd038level0_row9\" class=\"row_heading level0 row9\" >California University of Management and Sciences</th>\n",
       "                        <td id=\"T_15d6ca2c_8af2_11e9_a02f_7cb0c24cd038row9_col0\" class=\"data row9 col0\" >nan</td>\n",
       "                        <td id=\"T_15d6ca2c_8af2_11e9_a02f_7cb0c24cd038row9_col1\" class=\"data row9 col1\" >nan</td>\n",
       "                        <td id=\"T_15d6ca2c_8af2_11e9_a02f_7cb0c24cd038row9_col2\" class=\"data row9 col2\" >98</td>\n",
       "                        <td id=\"T_15d6ca2c_8af2_11e9_a02f_7cb0c24cd038row9_col3\" class=\"data row9 col3\" >0.0102</td>\n",
       "                        <td id=\"T_15d6ca2c_8af2_11e9_a02f_7cb0c24cd038row9_col4\" class=\"data row9 col4\" >0.0204</td>\n",
       "                        <td id=\"T_15d6ca2c_8af2_11e9_a02f_7cb0c24cd038row9_col5\" class=\"data row9 col5\" >0</td>\n",
       "                        <td id=\"T_15d6ca2c_8af2_11e9_a02f_7cb0c24cd038row9_col6\" class=\"data row9 col6\" >0.0408</td>\n",
       "                        <td id=\"T_15d6ca2c_8af2_11e9_a02f_7cb0c24cd038row9_col7\" class=\"data row9 col7\" >0</td>\n",
       "                        <td id=\"T_15d6ca2c_8af2_11e9_a02f_7cb0c24cd038row9_col8\" class=\"data row9 col8\" >0</td>\n",
       "                        <td id=\"T_15d6ca2c_8af2_11e9_a02f_7cb0c24cd038row9_col9\" class=\"data row9 col9\" >0</td>\n",
       "                        <td id=\"T_15d6ca2c_8af2_11e9_a02f_7cb0c24cd038row9_col10\" class=\"data row9 col10\" >0.9286</td>\n",
       "                        <td id=\"T_15d6ca2c_8af2_11e9_a02f_7cb0c24cd038row9_col11\" class=\"data row9 col11\" >0</td>\n",
       "                        <td id=\"T_15d6ca2c_8af2_11e9_a02f_7cb0c24cd038row9_col12\" class=\"data row9 col12\" >0</td>\n",
       "                        <td id=\"T_15d6ca2c_8af2_11e9_a02f_7cb0c24cd038row9_col13\" class=\"data row9 col13\" >0.0926</td>\n",
       "                        <td id=\"T_15d6ca2c_8af2_11e9_a02f_7cb0c24cd038row9_col14\" class=\"data row9 col14\" >0.0556</td>\n",
       "                        <td id=\"T_15d6ca2c_8af2_11e9_a02f_7cb0c24cd038row9_col15\" class=\"data row9 col15\" >0.6852</td>\n",
       "                        <td id=\"T_15d6ca2c_8af2_11e9_a02f_7cb0c24cd038row9_col16\" class=\"data row9 col16\" >nan</td>\n",
       "                        <td id=\"T_15d6ca2c_8af2_11e9_a02f_7cb0c24cd038row9_col17\" class=\"data row9 col17\" >nan</td>\n",
       "            </tr>\n",
       "            <tr>\n",
       "                        <th id=\"T_15d6ca2c_8af2_11e9_a02f_7cb0c24cd038level0_row10\" class=\"row_heading level0 row10\" >Le Cordon Bleu College of Culinary Arts-San Francisco</th>\n",
       "                        <td id=\"T_15d6ca2c_8af2_11e9_a02f_7cb0c24cd038row10_col0\" class=\"data row10 col0\" >nan</td>\n",
       "                        <td id=\"T_15d6ca2c_8af2_11e9_a02f_7cb0c24cd038row10_col1\" class=\"data row10 col1\" >nan</td>\n",
       "                        <td id=\"T_15d6ca2c_8af2_11e9_a02f_7cb0c24cd038row10_col2\" class=\"data row10 col2\" >442</td>\n",
       "                        <td id=\"T_15d6ca2c_8af2_11e9_a02f_7cb0c24cd038row10_col3\" class=\"data row10 col3\" >0.0317</td>\n",
       "                        <td id=\"T_15d6ca2c_8af2_11e9_a02f_7cb0c24cd038row10_col4\" class=\"data row10 col4\" >0.009</td>\n",
       "                        <td id=\"T_15d6ca2c_8af2_11e9_a02f_7cb0c24cd038row10_col5\" class=\"data row10 col5\" >0.0113</td>\n",
       "                        <td id=\"T_15d6ca2c_8af2_11e9_a02f_7cb0c24cd038row10_col6\" class=\"data row10 col6\" >0.0271</td>\n",
       "                        <td id=\"T_15d6ca2c_8af2_11e9_a02f_7cb0c24cd038row10_col7\" class=\"data row10 col7\" >0.0045</td>\n",
       "                        <td id=\"T_15d6ca2c_8af2_11e9_a02f_7cb0c24cd038row10_col8\" class=\"data row10 col8\" >0.0023</td>\n",
       "                        <td id=\"T_15d6ca2c_8af2_11e9_a02f_7cb0c24cd038row10_col9\" class=\"data row10 col9\" >0.0113</td>\n",
       "                        <td id=\"T_15d6ca2c_8af2_11e9_a02f_7cb0c24cd038row10_col10\" class=\"data row10 col10\" >0</td>\n",
       "                        <td id=\"T_15d6ca2c_8af2_11e9_a02f_7cb0c24cd038row10_col11\" class=\"data row10 col11\" >0.9027</td>\n",
       "                        <td id=\"T_15d6ca2c_8af2_11e9_a02f_7cb0c24cd038row10_col12\" class=\"data row10 col12\" >0</td>\n",
       "                        <td id=\"T_15d6ca2c_8af2_11e9_a02f_7cb0c24cd038row10_col13\" class=\"data row10 col13\" >0.3722</td>\n",
       "                        <td id=\"T_15d6ca2c_8af2_11e9_a02f_7cb0c24cd038row10_col14\" class=\"data row10 col14\" >0.5358</td>\n",
       "                        <td id=\"T_15d6ca2c_8af2_11e9_a02f_7cb0c24cd038row10_col15\" class=\"data row10 col15\" >0.544</td>\n",
       "                        <td id=\"T_15d6ca2c_8af2_11e9_a02f_7cb0c24cd038row10_col16\" class=\"data row10 col16\" >34000</td>\n",
       "                        <td id=\"T_15d6ca2c_8af2_11e9_a02f_7cb0c24cd038row10_col17\" class=\"data row10 col17\" >12931</td>\n",
       "            </tr>\n",
       "            <tr>\n",
       "                        <th id=\"T_15d6ca2c_8af2_11e9_a02f_7cb0c24cd038level0_row11\" class=\"row_heading level0 row11\" >MTI Business College Inc</th>\n",
       "                        <td id=\"T_15d6ca2c_8af2_11e9_a02f_7cb0c24cd038row11_col0\" class=\"data row11 col0\" >nan</td>\n",
       "                        <td id=\"T_15d6ca2c_8af2_11e9_a02f_7cb0c24cd038row11_col1\" class=\"data row11 col1\" >nan</td>\n",
       "                        <td id=\"T_15d6ca2c_8af2_11e9_a02f_7cb0c24cd038row11_col2\" class=\"data row11 col2\" >146</td>\n",
       "                        <td id=\"T_15d6ca2c_8af2_11e9_a02f_7cb0c24cd038row11_col3\" class=\"data row11 col3\" >0.2397</td>\n",
       "                        <td id=\"T_15d6ca2c_8af2_11e9_a02f_7cb0c24cd038row11_col4\" class=\"data row11 col4\" >0.5137</td>\n",
       "                        <td id=\"T_15d6ca2c_8af2_11e9_a02f_7cb0c24cd038row11_col5\" class=\"data row11 col5\" >0.1438</td>\n",
       "                        <td id=\"T_15d6ca2c_8af2_11e9_a02f_7cb0c24cd038row11_col6\" class=\"data row11 col6\" >0.0479</td>\n",
       "                        <td id=\"T_15d6ca2c_8af2_11e9_a02f_7cb0c24cd038row11_col7\" class=\"data row11 col7\" >0.0342</td>\n",
       "                        <td id=\"T_15d6ca2c_8af2_11e9_a02f_7cb0c24cd038row11_col8\" class=\"data row11 col8\" >0.0205</td>\n",
       "                        <td id=\"T_15d6ca2c_8af2_11e9_a02f_7cb0c24cd038row11_col9\" class=\"data row11 col9\" >0</td>\n",
       "                        <td id=\"T_15d6ca2c_8af2_11e9_a02f_7cb0c24cd038row11_col10\" class=\"data row11 col10\" >0</td>\n",
       "                        <td id=\"T_15d6ca2c_8af2_11e9_a02f_7cb0c24cd038row11_col11\" class=\"data row11 col11\" >0</td>\n",
       "                        <td id=\"T_15d6ca2c_8af2_11e9_a02f_7cb0c24cd038row11_col12\" class=\"data row11 col12\" >0</td>\n",
       "                        <td id=\"T_15d6ca2c_8af2_11e9_a02f_7cb0c24cd038row11_col13\" class=\"data row11 col13\" >1</td>\n",
       "                        <td id=\"T_15d6ca2c_8af2_11e9_a02f_7cb0c24cd038row11_col14\" class=\"data row11 col14\" >1</td>\n",
       "                        <td id=\"T_15d6ca2c_8af2_11e9_a02f_7cb0c24cd038row11_col15\" class=\"data row11 col15\" >0.3986</td>\n",
       "                        <td id=\"T_15d6ca2c_8af2_11e9_a02f_7cb0c24cd038row11_col16\" class=\"data row11 col16\" >23000</td>\n",
       "                        <td id=\"T_15d6ca2c_8af2_11e9_a02f_7cb0c24cd038row11_col17\" class=\"data row11 col17\" >9500</td>\n",
       "            </tr>\n",
       "            <tr>\n",
       "                        <th id=\"T_15d6ca2c_8af2_11e9_a02f_7cb0c24cd038level0_row12\" class=\"row_heading level0 row12\" >ABC Beauty College Inc</th>\n",
       "                        <td id=\"T_15d6ca2c_8af2_11e9_a02f_7cb0c24cd038row12_col0\" class=\"data row12 col0\" >nan</td>\n",
       "                        <td id=\"T_15d6ca2c_8af2_11e9_a02f_7cb0c24cd038row12_col1\" class=\"data row12 col1\" >nan</td>\n",
       "                        <td id=\"T_15d6ca2c_8af2_11e9_a02f_7cb0c24cd038row12_col2\" class=\"data row12 col2\" >38</td>\n",
       "                        <td id=\"T_15d6ca2c_8af2_11e9_a02f_7cb0c24cd038row12_col3\" class=\"data row12 col3\" >0.2895</td>\n",
       "                        <td id=\"T_15d6ca2c_8af2_11e9_a02f_7cb0c24cd038row12_col4\" class=\"data row12 col4\" >0.6579</td>\n",
       "                        <td id=\"T_15d6ca2c_8af2_11e9_a02f_7cb0c24cd038row12_col5\" class=\"data row12 col5\" >0.0526</td>\n",
       "                        <td id=\"T_15d6ca2c_8af2_11e9_a02f_7cb0c24cd038row12_col6\" class=\"data row12 col6\" >0</td>\n",
       "                        <td id=\"T_15d6ca2c_8af2_11e9_a02f_7cb0c24cd038row12_col7\" class=\"data row12 col7\" >0</td>\n",
       "                        <td id=\"T_15d6ca2c_8af2_11e9_a02f_7cb0c24cd038row12_col8\" class=\"data row12 col8\" >0</td>\n",
       "                        <td id=\"T_15d6ca2c_8af2_11e9_a02f_7cb0c24cd038row12_col9\" class=\"data row12 col9\" >0</td>\n",
       "                        <td id=\"T_15d6ca2c_8af2_11e9_a02f_7cb0c24cd038row12_col10\" class=\"data row12 col10\" >0</td>\n",
       "                        <td id=\"T_15d6ca2c_8af2_11e9_a02f_7cb0c24cd038row12_col11\" class=\"data row12 col11\" >0</td>\n",
       "                        <td id=\"T_15d6ca2c_8af2_11e9_a02f_7cb0c24cd038row12_col12\" class=\"data row12 col12\" >0.2105</td>\n",
       "                        <td id=\"T_15d6ca2c_8af2_11e9_a02f_7cb0c24cd038row12_col13\" class=\"data row12 col13\" >0.9815</td>\n",
       "                        <td id=\"T_15d6ca2c_8af2_11e9_a02f_7cb0c24cd038row12_col14\" class=\"data row12 col14\" >1</td>\n",
       "                        <td id=\"T_15d6ca2c_8af2_11e9_a02f_7cb0c24cd038row12_col15\" class=\"data row12 col15\" >0.4688</td>\n",
       "                        <td id=\"T_15d6ca2c_8af2_11e9_a02f_7cb0c24cd038row12_col16\" class=\"data row12 col16\" >nan</td>\n",
       "                        <td id=\"T_15d6ca2c_8af2_11e9_a02f_7cb0c24cd038row12_col17\" class=\"data row12 col17\" >16500</td>\n",
       "            </tr>\n",
       "            <tr>\n",
       "                        <th id=\"T_15d6ca2c_8af2_11e9_a02f_7cb0c24cd038level0_row13\" class=\"row_heading level0 row13\" >Dongguk University-Los Angeles</th>\n",
       "                        <td id=\"T_15d6ca2c_8af2_11e9_a02f_7cb0c24cd038row13_col0\" class=\"data row13 col0\" >nan</td>\n",
       "                        <td id=\"T_15d6ca2c_8af2_11e9_a02f_7cb0c24cd038row13_col1\" class=\"data row13 col1\" >nan</td>\n",
       "                        <td id=\"T_15d6ca2c_8af2_11e9_a02f_7cb0c24cd038row13_col2\" class=\"data row13 col2\" >20</td>\n",
       "                        <td id=\"T_15d6ca2c_8af2_11e9_a02f_7cb0c24cd038row13_col3\" class=\"data row13 col3\" >0.35</td>\n",
       "                        <td id=\"T_15d6ca2c_8af2_11e9_a02f_7cb0c24cd038row13_col4\" class=\"data row13 col4\" >0</td>\n",
       "                        <td id=\"T_15d6ca2c_8af2_11e9_a02f_7cb0c24cd038row13_col5\" class=\"data row13 col5\" >0.15</td>\n",
       "                        <td id=\"T_15d6ca2c_8af2_11e9_a02f_7cb0c24cd038row13_col6\" class=\"data row13 col6\" >0.5</td>\n",
       "                        <td id=\"T_15d6ca2c_8af2_11e9_a02f_7cb0c24cd038row13_col7\" class=\"data row13 col7\" >0</td>\n",
       "                        <td id=\"T_15d6ca2c_8af2_11e9_a02f_7cb0c24cd038row13_col8\" class=\"data row13 col8\" >0</td>\n",
       "                        <td id=\"T_15d6ca2c_8af2_11e9_a02f_7cb0c24cd038row13_col9\" class=\"data row13 col9\" >0</td>\n",
       "                        <td id=\"T_15d6ca2c_8af2_11e9_a02f_7cb0c24cd038row13_col10\" class=\"data row13 col10\" >0</td>\n",
       "                        <td id=\"T_15d6ca2c_8af2_11e9_a02f_7cb0c24cd038row13_col11\" class=\"data row13 col11\" >0</td>\n",
       "                        <td id=\"T_15d6ca2c_8af2_11e9_a02f_7cb0c24cd038row13_col12\" class=\"data row13 col12\" >nan</td>\n",
       "                        <td id=\"T_15d6ca2c_8af2_11e9_a02f_7cb0c24cd038row13_col13\" class=\"data row13 col13\" >nan</td>\n",
       "                        <td id=\"T_15d6ca2c_8af2_11e9_a02f_7cb0c24cd038row13_col14\" class=\"data row13 col14\" >nan</td>\n",
       "                        <td id=\"T_15d6ca2c_8af2_11e9_a02f_7cb0c24cd038row13_col15\" class=\"data row13 col15\" >1</td>\n",
       "                        <td id=\"T_15d6ca2c_8af2_11e9_a02f_7cb0c24cd038row13_col16\" class=\"data row13 col16\" >nan</td>\n",
       "                        <td id=\"T_15d6ca2c_8af2_11e9_a02f_7cb0c24cd038row13_col17\" class=\"data row13 col17\" >nan</td>\n",
       "            </tr>\n",
       "            <tr>\n",
       "                        <th id=\"T_15d6ca2c_8af2_11e9_a02f_7cb0c24cd038level0_row14\" class=\"row_heading level0 row14\" >Medical College of Wisconsin</th>\n",
       "                        <td id=\"T_15d6ca2c_8af2_11e9_a02f_7cb0c24cd038row14_col0\" class=\"data row14 col0\" >nan</td>\n",
       "                        <td id=\"T_15d6ca2c_8af2_11e9_a02f_7cb0c24cd038row14_col1\" class=\"data row14 col1\" >nan</td>\n",
       "                        <td id=\"T_15d6ca2c_8af2_11e9_a02f_7cb0c24cd038row14_col2\" class=\"data row14 col2\" >nan</td>\n",
       "                        <td id=\"T_15d6ca2c_8af2_11e9_a02f_7cb0c24cd038row14_col3\" class=\"data row14 col3\" >nan</td>\n",
       "                        <td id=\"T_15d6ca2c_8af2_11e9_a02f_7cb0c24cd038row14_col4\" class=\"data row14 col4\" >nan</td>\n",
       "                        <td id=\"T_15d6ca2c_8af2_11e9_a02f_7cb0c24cd038row14_col5\" class=\"data row14 col5\" >nan</td>\n",
       "                        <td id=\"T_15d6ca2c_8af2_11e9_a02f_7cb0c24cd038row14_col6\" class=\"data row14 col6\" >nan</td>\n",
       "                        <td id=\"T_15d6ca2c_8af2_11e9_a02f_7cb0c24cd038row14_col7\" class=\"data row14 col7\" >nan</td>\n",
       "                        <td id=\"T_15d6ca2c_8af2_11e9_a02f_7cb0c24cd038row14_col8\" class=\"data row14 col8\" >nan</td>\n",
       "                        <td id=\"T_15d6ca2c_8af2_11e9_a02f_7cb0c24cd038row14_col9\" class=\"data row14 col9\" >nan</td>\n",
       "                        <td id=\"T_15d6ca2c_8af2_11e9_a02f_7cb0c24cd038row14_col10\" class=\"data row14 col10\" >nan</td>\n",
       "                        <td id=\"T_15d6ca2c_8af2_11e9_a02f_7cb0c24cd038row14_col11\" class=\"data row14 col11\" >nan</td>\n",
       "                        <td id=\"T_15d6ca2c_8af2_11e9_a02f_7cb0c24cd038row14_col12\" class=\"data row14 col12\" >nan</td>\n",
       "                        <td id=\"T_15d6ca2c_8af2_11e9_a02f_7cb0c24cd038row14_col13\" class=\"data row14 col13\" >nan</td>\n",
       "                        <td id=\"T_15d6ca2c_8af2_11e9_a02f_7cb0c24cd038row14_col14\" class=\"data row14 col14\" >nan</td>\n",
       "                        <td id=\"T_15d6ca2c_8af2_11e9_a02f_7cb0c24cd038row14_col15\" class=\"data row14 col15\" >nan</td>\n",
       "                        <td id=\"T_15d6ca2c_8af2_11e9_a02f_7cb0c24cd038row14_col16\" class=\"data row14 col16\" >233100</td>\n",
       "                        <td id=\"T_15d6ca2c_8af2_11e9_a02f_7cb0c24cd038row14_col17\" class=\"data row14 col17\" >nan</td>\n",
       "            </tr>\n",
       "            <tr>\n",
       "                        <th id=\"T_15d6ca2c_8af2_11e9_a02f_7cb0c24cd038level0_row15\" class=\"row_heading level0 row15\" >Southwest University of Visual Arts-Tucson</th>\n",
       "                        <td id=\"T_15d6ca2c_8af2_11e9_a02f_7cb0c24cd038row15_col0\" class=\"data row15 col0\" >nan</td>\n",
       "                        <td id=\"T_15d6ca2c_8af2_11e9_a02f_7cb0c24cd038row15_col1\" class=\"data row15 col1\" >nan</td>\n",
       "                        <td id=\"T_15d6ca2c_8af2_11e9_a02f_7cb0c24cd038row15_col2\" class=\"data row15 col2\" >161</td>\n",
       "                        <td id=\"T_15d6ca2c_8af2_11e9_a02f_7cb0c24cd038row15_col3\" class=\"data row15 col3\" >0.4534</td>\n",
       "                        <td id=\"T_15d6ca2c_8af2_11e9_a02f_7cb0c24cd038row15_col4\" class=\"data row15 col4\" >0.0435</td>\n",
       "                        <td id=\"T_15d6ca2c_8af2_11e9_a02f_7cb0c24cd038row15_col5\" class=\"data row15 col5\" >0.3168</td>\n",
       "                        <td id=\"T_15d6ca2c_8af2_11e9_a02f_7cb0c24cd038row15_col6\" class=\"data row15 col6\" >0.0062</td>\n",
       "                        <td id=\"T_15d6ca2c_8af2_11e9_a02f_7cb0c24cd038row15_col7\" class=\"data row15 col7\" >0.0311</td>\n",
       "                        <td id=\"T_15d6ca2c_8af2_11e9_a02f_7cb0c24cd038row15_col8\" class=\"data row15 col8\" >0</td>\n",
       "                        <td id=\"T_15d6ca2c_8af2_11e9_a02f_7cb0c24cd038row15_col9\" class=\"data row15 col9\" >0</td>\n",
       "                        <td id=\"T_15d6ca2c_8af2_11e9_a02f_7cb0c24cd038row15_col10\" class=\"data row15 col10\" >0</td>\n",
       "                        <td id=\"T_15d6ca2c_8af2_11e9_a02f_7cb0c24cd038row15_col11\" class=\"data row15 col11\" >0.1491</td>\n",
       "                        <td id=\"T_15d6ca2c_8af2_11e9_a02f_7cb0c24cd038row15_col12\" class=\"data row15 col12\" >0.2795</td>\n",
       "                        <td id=\"T_15d6ca2c_8af2_11e9_a02f_7cb0c24cd038row15_col13\" class=\"data row15 col13\" >0.4469</td>\n",
       "                        <td id=\"T_15d6ca2c_8af2_11e9_a02f_7cb0c24cd038row15_col14\" class=\"data row15 col14\" >0.4292</td>\n",
       "                        <td id=\"T_15d6ca2c_8af2_11e9_a02f_7cb0c24cd038row15_col15\" class=\"data row15 col15\" >0.8657</td>\n",
       "                        <td id=\"T_15d6ca2c_8af2_11e9_a02f_7cb0c24cd038row15_col16\" class=\"data row15 col16\" >27200</td>\n",
       "                        <td id=\"T_15d6ca2c_8af2_11e9_a02f_7cb0c24cd038row15_col17\" class=\"data row15 col17\" >49750</td>\n",
       "            </tr>\n",
       "    </tbody></table>"
      ],
      "text/plain": [
       "<pandas.io.formats.style.Styler at 0x7fd2e49704e0>"
      ]
     },
     "execution_count": 83,
     "metadata": {},
     "output_type": "execute_result"
    }
   ],
   "source": [
    "#we'll use this list of unique values to get to the max values for the corresponding\n",
    "#labels. Once we reach the values, we stylize them through highlight the max value\n",
    "college_n2.loc[unique_col_max_vals].style.highlight_max()"
   ]
  },
  {
   "cell_type": "markdown",
   "metadata": {},
   "source": [
    "## 7. Replicating idxmax With Method Chaining"
   ]
  },
  {
   "cell_type": "code",
   "execution_count": 88,
   "metadata": {},
   "outputs": [],
   "source": [
    "cols = [\"MD_EARN_WNE_P10\", \"GRAD_DEBT_MDN_SUPP\"]\n",
    "\n",
    "for col in cols:\n",
    "    college[col] = pd.to_numeric(college[col], errors=\"coerce\")"
   ]
  },
  {
   "cell_type": "code",
   "execution_count": 97,
   "metadata": {},
   "outputs": [],
   "source": [
    "college_numeric = college.select_dtypes(include=[np.number])"
   ]
  },
  {
   "cell_type": "code",
   "execution_count": 111,
   "metadata": {},
   "outputs": [],
   "source": [
    "binary_cols = college_numeric.columns[(college_numeric.nunique() == 2)].tolist()"
   ]
  },
  {
   "cell_type": "code",
   "execution_count": 113,
   "metadata": {},
   "outputs": [],
   "source": [
    "college_numeric_final = college_numeric.drop(labels=binary_cols, axis=\"columns\")"
   ]
  },
  {
   "cell_type": "code",
   "execution_count": 130,
   "metadata": {},
   "outputs": [
    {
     "data": {
      "text/plain": [
       "SATVRMID         765.0\n",
       "SATMTMID         785.0\n",
       "UGDS          151558.0\n",
       "UGDS_WHITE         1.0\n",
       "UGDS_BLACK         1.0\n",
       "dtype: float64"
      ]
     },
     "execution_count": 130,
     "metadata": {},
     "output_type": "execute_result"
    }
   ],
   "source": [
    "college_numeric_final.max().head()"
   ]
  },
  {
   "cell_type": "code",
   "execution_count": null,
   "metadata": {},
   "outputs": [],
   "source": [
    "#let us test each col value of the df with its col max\n",
    "#the eq method by default aligns the columns of the col df\n",
    "#with the labels of the past series index\n"
   ]
  },
  {
   "cell_type": "markdown",
   "metadata": {},
   "source": [
    "## 8. Finding the Most Common Maximum"
   ]
  },
  {
   "cell_type": "code",
   "execution_count": 134,
   "metadata": {},
   "outputs": [
    {
     "data": {
      "text/html": [
       "<div>\n",
       "<style scoped>\n",
       "    .dataframe tbody tr th:only-of-type {\n",
       "        vertical-align: middle;\n",
       "    }\n",
       "\n",
       "    .dataframe tbody tr th {\n",
       "        vertical-align: top;\n",
       "    }\n",
       "\n",
       "    .dataframe thead th {\n",
       "        text-align: right;\n",
       "    }\n",
       "</style>\n",
       "<table border=\"1\" class=\"dataframe\">\n",
       "  <thead>\n",
       "    <tr style=\"text-align: right;\">\n",
       "      <th></th>\n",
       "      <th>UGDS_WHITE</th>\n",
       "      <th>UGDS_BLACK</th>\n",
       "      <th>UGDS_HISP</th>\n",
       "      <th>UGDS_ASIAN</th>\n",
       "      <th>UGDS_AIAN</th>\n",
       "      <th>UGDS_NHPI</th>\n",
       "      <th>UGDS_2MOR</th>\n",
       "      <th>UGDS_NRA</th>\n",
       "      <th>UGDS_UNKN</th>\n",
       "    </tr>\n",
       "    <tr>\n",
       "      <th>INSTNM</th>\n",
       "      <th></th>\n",
       "      <th></th>\n",
       "      <th></th>\n",
       "      <th></th>\n",
       "      <th></th>\n",
       "      <th></th>\n",
       "      <th></th>\n",
       "      <th></th>\n",
       "      <th></th>\n",
       "    </tr>\n",
       "  </thead>\n",
       "  <tbody>\n",
       "    <tr>\n",
       "      <th>Alabama A &amp; M University</th>\n",
       "      <td>0.0333</td>\n",
       "      <td>0.9353</td>\n",
       "      <td>0.0055</td>\n",
       "      <td>0.0019</td>\n",
       "      <td>0.0024</td>\n",
       "      <td>0.0019</td>\n",
       "      <td>0.0000</td>\n",
       "      <td>0.0059</td>\n",
       "      <td>0.0138</td>\n",
       "    </tr>\n",
       "    <tr>\n",
       "      <th>University of Alabama at Birmingham</th>\n",
       "      <td>0.5922</td>\n",
       "      <td>0.2600</td>\n",
       "      <td>0.0283</td>\n",
       "      <td>0.0518</td>\n",
       "      <td>0.0022</td>\n",
       "      <td>0.0007</td>\n",
       "      <td>0.0368</td>\n",
       "      <td>0.0179</td>\n",
       "      <td>0.0100</td>\n",
       "    </tr>\n",
       "    <tr>\n",
       "      <th>Amridge University</th>\n",
       "      <td>0.2990</td>\n",
       "      <td>0.4192</td>\n",
       "      <td>0.0069</td>\n",
       "      <td>0.0034</td>\n",
       "      <td>0.0000</td>\n",
       "      <td>0.0000</td>\n",
       "      <td>0.0000</td>\n",
       "      <td>0.0000</td>\n",
       "      <td>0.2715</td>\n",
       "    </tr>\n",
       "    <tr>\n",
       "      <th>University of Alabama in Huntsville</th>\n",
       "      <td>0.6988</td>\n",
       "      <td>0.1255</td>\n",
       "      <td>0.0382</td>\n",
       "      <td>0.0376</td>\n",
       "      <td>0.0143</td>\n",
       "      <td>0.0002</td>\n",
       "      <td>0.0172</td>\n",
       "      <td>0.0332</td>\n",
       "      <td>0.0350</td>\n",
       "    </tr>\n",
       "    <tr>\n",
       "      <th>Alabama State University</th>\n",
       "      <td>0.0158</td>\n",
       "      <td>0.9208</td>\n",
       "      <td>0.0121</td>\n",
       "      <td>0.0019</td>\n",
       "      <td>0.0010</td>\n",
       "      <td>0.0006</td>\n",
       "      <td>0.0098</td>\n",
       "      <td>0.0243</td>\n",
       "      <td>0.0137</td>\n",
       "    </tr>\n",
       "  </tbody>\n",
       "</table>\n",
       "</div>"
      ],
      "text/plain": [
       "                                     UGDS_WHITE  UGDS_BLACK  UGDS_HISP  \\\n",
       "INSTNM                                                                   \n",
       "Alabama A & M University                 0.0333      0.9353     0.0055   \n",
       "University of Alabama at Birmingham      0.5922      0.2600     0.0283   \n",
       "Amridge University                       0.2990      0.4192     0.0069   \n",
       "University of Alabama in Huntsville      0.6988      0.1255     0.0382   \n",
       "Alabama State University                 0.0158      0.9208     0.0121   \n",
       "\n",
       "                                     UGDS_ASIAN  UGDS_AIAN  UGDS_NHPI  \\\n",
       "INSTNM                                                                  \n",
       "Alabama A & M University                 0.0019     0.0024     0.0019   \n",
       "University of Alabama at Birmingham      0.0518     0.0022     0.0007   \n",
       "Amridge University                       0.0034     0.0000     0.0000   \n",
       "University of Alabama in Huntsville      0.0376     0.0143     0.0002   \n",
       "Alabama State University                 0.0019     0.0010     0.0006   \n",
       "\n",
       "                                     UGDS_2MOR  UGDS_NRA  UGDS_UNKN  \n",
       "INSTNM                                                               \n",
       "Alabama A & M University                0.0000    0.0059     0.0138  \n",
       "University of Alabama at Birmingham     0.0368    0.0179     0.0100  \n",
       "Amridge University                      0.0000    0.0000     0.2715  \n",
       "University of Alabama in Huntsville     0.0172    0.0332     0.0350  \n",
       "Alabama State University                0.0098    0.0243     0.0137  "
      ]
     },
     "execution_count": 134,
     "metadata": {},
     "output_type": "execute_result"
    }
   ],
   "source": [
    "#we will find the race with highest percentage of the undergraduate\n",
    "#population for each school with the idxmax method. And then find the distribution of \n",
    "#these maximums.\n",
    "\n",
    "college = pd.read_csv('data/college.csv', index_col=\"INSTNM\")\n",
    "#select only those cols that are relevant to race\n",
    "college_race = college.filter(like='UGDS_')\n",
    "college_race.head()"
   ]
  },
  {
   "cell_type": "code",
   "execution_count": 135,
   "metadata": {},
   "outputs": [
    {
     "data": {
      "text/plain": [
       "INSTNM\n",
       "Alabama A & M University               UGDS_BLACK\n",
       "University of Alabama at Birmingham    UGDS_WHITE\n",
       "Amridge University                     UGDS_BLACK\n",
       "University of Alabama in Huntsville    UGDS_WHITE\n",
       "Alabama State University               UGDS_BLACK\n",
       "dtype: object"
      ]
     },
     "execution_count": 135,
     "metadata": {},
     "output_type": "execute_result"
    }
   ],
   "source": [
    "#use the idxmax to find the col name with the highest race percentage for each row.\n",
    "#by default idxmax finds the max val in every column. Now that we've changed the axis\n",
    "#columns, it will now find the max val for each row, ie, the majority race in each \n",
    "#university.\n",
    "\n",
    "majority_race = college_race.idxmax(axis='columns')\n",
    "majority_race.head()"
   ]
  },
  {
   "cell_type": "code",
   "execution_count": 136,
   "metadata": {},
   "outputs": [
    {
     "data": {
      "text/plain": [
       "UGDS_WHITE    0.670352\n",
       "UGDS_BLACK    0.151586\n",
       "UGDS_HISP     0.129473\n",
       "UGDS_UNKN     0.023422\n",
       "UGDS_ASIAN    0.012074\n",
       "UGDS_AIAN     0.006110\n",
       "UGDS_NRA      0.004073\n",
       "UGDS_NHPI     0.001746\n",
       "UGDS_2MOR     0.001164\n",
       "dtype: float64"
      ]
     },
     "execution_count": 136,
     "metadata": {},
     "output_type": "execute_result"
    }
   ],
   "source": [
    "#normalize = true gives us the relative frequency and not the raw counts\n",
    "majority_race.value_counts(normalize=True)"
   ]
  },
  {
   "cell_type": "code",
   "execution_count": 140,
   "metadata": {},
   "outputs": [
    {
     "data": {
      "text/plain": [
       "UGDS_WHITE    0.661228\n",
       "UGDS_HISP     0.230326\n",
       "UGDS_UNKN     0.071977\n",
       "UGDS_NRA      0.018234\n",
       "UGDS_ASIAN    0.009597\n",
       "UGDS_2MOR     0.006718\n",
       "UGDS_NHPI     0.000960\n",
       "UGDS_AIAN     0.000960\n",
       "dtype: float64"
      ]
     },
     "execution_count": 140,
     "metadata": {},
     "output_type": "execute_result"
    }
   ],
   "source": [
    "#Question : Of the colleges/universities that have a majority of black students, \n",
    "#           what is the second majority race?\n",
    "majority_black = college_race[majority_race == 'UGDS_BLACK']\n",
    "majority_black = majority_black.drop('UGDS_BLACK', axis='columns')\n",
    "majority_black.idxmax(axis='columns').value_counts(normalize=True)"
   ]
  }
 ],
 "metadata": {
  "kernelspec": {
   "display_name": "Python 3",
   "language": "python",
   "name": "python3"
  },
  "language_info": {
   "codemirror_mode": {
    "name": "ipython",
    "version": 3
   },
   "file_extension": ".py",
   "mimetype": "text/x-python",
   "name": "python",
   "nbconvert_exporter": "python",
   "pygments_lexer": "ipython3",
   "version": "3.6.7"
  }
 },
 "nbformat": 4,
 "nbformat_minor": 2
}
